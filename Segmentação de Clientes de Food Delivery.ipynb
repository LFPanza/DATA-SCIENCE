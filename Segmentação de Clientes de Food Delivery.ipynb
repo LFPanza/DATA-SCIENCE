{
 "cells": [
  {
   "cell_type": "markdown",
   "metadata": {},
   "source": [
    "# <font color='blue'>Segmentação de Clientes de Food Delivery</font>"
   ]
  },
  {
   "cell_type": "markdown",
   "metadata": {},
   "source": [
    "### Carregando os Pacotes"
   ]
  },
  {
   "cell_type": "code",
   "execution_count": 3,
   "metadata": {},
   "outputs": [],
   "source": [
    "# Imports\n",
    "\n",
    "# Manipulação e visualização de dados\n",
    "import time\n",
    "import sklearn\n",
    "import datetime\n",
    "import numpy as np\n",
    "import pandas as pd\n",
    "import seaborn as sns \n",
    "import matplotlib as m\n",
    "import matplotlib.pyplot as plt\n",
    "\n",
    "# Machine Learning\n",
    "from sklearn.cluster import KMeans\n",
    "from sklearn import metrics\n",
    "from sklearn.preprocessing import MinMaxScaler\n",
    "\n",
    "# Formatação dos gráficos\n",
    "plt.style.use('fivethirtyeight')\n",
    "plt.figure(1 , figsize = (15 , 6))\n",
    "%matplotlib inline"
   ]
  },
  {
   "cell_type": "markdown",
   "metadata": {},
   "source": [
    "### Carregando e Compreendendo os Dados"
   ]
  },
  {
   "cell_type": "code",
   "execution_count": 6,
   "metadata": {},
   "outputs": [],
   "source": [
    "# Carrega o dataset\n",
    "df_food_delivery = pd.read_csv(\"dados/dataset.csv\", encoding = 'utf-8')"
   ]
  },
  {
   "cell_type": "code",
   "execution_count": 7,
   "metadata": {},
   "outputs": [
    {
     "data": {
      "text/plain": [
       "(260645, 7)"
      ]
     },
     "execution_count": 7,
     "metadata": {},
     "output_type": "execute_result"
    }
   ],
   "source": [
    "# Shape\n",
    "df_food_delivery.shape"
   ]
  },
  {
   "cell_type": "code",
   "execution_count": 8,
   "metadata": {},
   "outputs": [
    {
     "data": {
      "text/html": [
       "<div>\n",
       "<style scoped>\n",
       "    .dataframe tbody tr th:only-of-type {\n",
       "        vertical-align: middle;\n",
       "    }\n",
       "\n",
       "    .dataframe tbody tr th {\n",
       "        vertical-align: top;\n",
       "    }\n",
       "\n",
       "    .dataframe thead th {\n",
       "        text-align: right;\n",
       "    }\n",
       "</style>\n",
       "<table border=\"1\" class=\"dataframe\">\n",
       "  <thead>\n",
       "    <tr style=\"text-align: right;\">\n",
       "      <th></th>\n",
       "      <th>id_transacao</th>\n",
       "      <th>horario_pedido</th>\n",
       "      <th>localidade</th>\n",
       "      <th>nome_item</th>\n",
       "      <th>quantidade_item</th>\n",
       "      <th>latitude</th>\n",
       "      <th>longitude</th>\n",
       "    </tr>\n",
       "  </thead>\n",
       "  <tbody>\n",
       "    <tr>\n",
       "      <th>0</th>\n",
       "      <td>0x7901ee</td>\n",
       "      <td>2019-01-16 18:33:00</td>\n",
       "      <td>7</td>\n",
       "      <td>bebida</td>\n",
       "      <td>2</td>\n",
       "      <td>41.794132</td>\n",
       "      <td>-88.010140</td>\n",
       "    </tr>\n",
       "    <tr>\n",
       "      <th>1</th>\n",
       "      <td>0x7901ee</td>\n",
       "      <td>2019-01-16 18:33:00</td>\n",
       "      <td>7</td>\n",
       "      <td>pizza</td>\n",
       "      <td>2</td>\n",
       "      <td>41.794132</td>\n",
       "      <td>-88.010140</td>\n",
       "    </tr>\n",
       "    <tr>\n",
       "      <th>2</th>\n",
       "      <td>0x7901ee</td>\n",
       "      <td>2019-01-16 18:33:00</td>\n",
       "      <td>7</td>\n",
       "      <td>sobremesa</td>\n",
       "      <td>2</td>\n",
       "      <td>41.794132</td>\n",
       "      <td>-88.010140</td>\n",
       "    </tr>\n",
       "    <tr>\n",
       "      <th>3</th>\n",
       "      <td>0x12b47f</td>\n",
       "      <td>2019-09-04 12:36:00</td>\n",
       "      <td>3</td>\n",
       "      <td>salada</td>\n",
       "      <td>1</td>\n",
       "      <td>41.884490</td>\n",
       "      <td>-87.627059</td>\n",
       "    </tr>\n",
       "    <tr>\n",
       "      <th>4</th>\n",
       "      <td>0x12b47f</td>\n",
       "      <td>2019-09-04 12:36:00</td>\n",
       "      <td>3</td>\n",
       "      <td>sobremesa</td>\n",
       "      <td>1</td>\n",
       "      <td>41.884490</td>\n",
       "      <td>-87.627059</td>\n",
       "    </tr>\n",
       "  </tbody>\n",
       "</table>\n",
       "</div>"
      ],
      "text/plain": [
       "  id_transacao       horario_pedido  localidade  nome_item  quantidade_item  \\\n",
       "0     0x7901ee  2019-01-16 18:33:00           7     bebida                2   \n",
       "1     0x7901ee  2019-01-16 18:33:00           7      pizza                2   \n",
       "2     0x7901ee  2019-01-16 18:33:00           7  sobremesa                2   \n",
       "3     0x12b47f  2019-09-04 12:36:00           3     salada                1   \n",
       "4     0x12b47f  2019-09-04 12:36:00           3  sobremesa                1   \n",
       "\n",
       "    latitude  longitude  \n",
       "0  41.794132 -88.010140  \n",
       "1  41.794132 -88.010140  \n",
       "2  41.794132 -88.010140  \n",
       "3  41.884490 -87.627059  \n",
       "4  41.884490 -87.627059  "
      ]
     },
     "execution_count": 8,
     "metadata": {},
     "output_type": "execute_result"
    }
   ],
   "source": [
    "# Visualiza os dados\n",
    "df_food_delivery.head()"
   ]
  },
  {
   "cell_type": "markdown",
   "metadata": {},
   "source": [
    "## Dicionário de Dados\n",
    "\n",
    "- Variável = Descrição\n",
    "- id_transacao = ID da transação. Um mesmo ID pode ter vários itens de um pedido.\n",
    "- horario_pedido = Horário exato do pedido.\n",
    "- localidade = Localidade que processou o pedido (unidade do restaurante).\n",
    "- nome_item =  Nome do item (pizza, salada, bebida e sobremesa).\n",
    "- quantidade_item = Quantidade de itens no pedido.\n",
    "- latitude = Latitude da localidadeonde o pedido foi gerado.\n",
    "- longitude = Longitude da localidadeonde o pedido foi gerado."
   ]
  },
  {
   "cell_type": "markdown",
   "metadata": {},
   "source": [
    "### Análise Exploratória"
   ]
  },
  {
   "cell_type": "code",
   "execution_count": 9,
   "metadata": {},
   "outputs": [
    {
     "data": {
      "text/plain": [
       "id_transacao       100000\n",
       "horario_pedido      76799\n",
       "localidade              9\n",
       "nome_item               4\n",
       "quantidade_item         5\n",
       "latitude                9\n",
       "longitude               9\n",
       "dtype: int64"
      ]
     },
     "execution_count": 9,
     "metadata": {},
     "output_type": "execute_result"
    }
   ],
   "source": [
    "# Verifica o total de valores únicos por coluna\n",
    "df_food_delivery.nunique()"
   ]
  },
  {
   "cell_type": "code",
   "execution_count": 10,
   "metadata": {},
   "outputs": [
    {
     "data": {
      "text/plain": [
       "id_transacao        object\n",
       "horario_pedido      object\n",
       "localidade           int64\n",
       "nome_item           object\n",
       "quantidade_item      int64\n",
       "latitude           float64\n",
       "longitude          float64\n",
       "dtype: object"
      ]
     },
     "execution_count": 10,
     "metadata": {},
     "output_type": "execute_result"
    }
   ],
   "source": [
    "# Tipos de dados\n",
    "df_food_delivery.dtypes"
   ]
  },
  {
   "cell_type": "code",
   "execution_count": 11,
   "metadata": {},
   "outputs": [
    {
     "data": {
      "text/html": [
       "<div>\n",
       "<style scoped>\n",
       "    .dataframe tbody tr th:only-of-type {\n",
       "        vertical-align: middle;\n",
       "    }\n",
       "\n",
       "    .dataframe tbody tr th {\n",
       "        vertical-align: top;\n",
       "    }\n",
       "\n",
       "    .dataframe thead th {\n",
       "        text-align: right;\n",
       "    }\n",
       "</style>\n",
       "<table border=\"1\" class=\"dataframe\">\n",
       "  <thead>\n",
       "    <tr style=\"text-align: right;\">\n",
       "      <th></th>\n",
       "      <th>localidade</th>\n",
       "      <th>quantidade_item</th>\n",
       "      <th>latitude</th>\n",
       "      <th>longitude</th>\n",
       "    </tr>\n",
       "  </thead>\n",
       "  <tbody>\n",
       "    <tr>\n",
       "      <th>count</th>\n",
       "      <td>260645.000000</td>\n",
       "      <td>260645.000000</td>\n",
       "      <td>260645.000000</td>\n",
       "      <td>260645.000000</td>\n",
       "    </tr>\n",
       "    <tr>\n",
       "      <th>mean</th>\n",
       "      <td>5.134904</td>\n",
       "      <td>2.447010</td>\n",
       "      <td>41.836095</td>\n",
       "      <td>-87.733930</td>\n",
       "    </tr>\n",
       "    <tr>\n",
       "      <th>std</th>\n",
       "      <td>2.551846</td>\n",
       "      <td>1.330863</td>\n",
       "      <td>0.144459</td>\n",
       "      <td>0.136369</td>\n",
       "    </tr>\n",
       "    <tr>\n",
       "      <th>min</th>\n",
       "      <td>1.000000</td>\n",
       "      <td>1.000000</td>\n",
       "      <td>41.524598</td>\n",
       "      <td>-88.010140</td>\n",
       "    </tr>\n",
       "    <tr>\n",
       "      <th>25%</th>\n",
       "      <td>3.000000</td>\n",
       "      <td>1.000000</td>\n",
       "      <td>41.784576</td>\n",
       "      <td>-87.849468</td>\n",
       "    </tr>\n",
       "    <tr>\n",
       "      <th>50%</th>\n",
       "      <td>5.000000</td>\n",
       "      <td>2.000000</td>\n",
       "      <td>41.881818</td>\n",
       "      <td>-87.677606</td>\n",
       "    </tr>\n",
       "    <tr>\n",
       "      <th>75%</th>\n",
       "      <td>7.000000</td>\n",
       "      <td>4.000000</td>\n",
       "      <td>41.889047</td>\n",
       "      <td>-87.627059</td>\n",
       "    </tr>\n",
       "    <tr>\n",
       "      <th>max</th>\n",
       "      <td>9.000000</td>\n",
       "      <td>5.000000</td>\n",
       "      <td>42.049306</td>\n",
       "      <td>-87.607565</td>\n",
       "    </tr>\n",
       "  </tbody>\n",
       "</table>\n",
       "</div>"
      ],
      "text/plain": [
       "          localidade  quantidade_item       latitude      longitude\n",
       "count  260645.000000    260645.000000  260645.000000  260645.000000\n",
       "mean        5.134904         2.447010      41.836095     -87.733930\n",
       "std         2.551846         1.330863       0.144459       0.136369\n",
       "min         1.000000         1.000000      41.524598     -88.010140\n",
       "25%         3.000000         1.000000      41.784576     -87.849468\n",
       "50%         5.000000         2.000000      41.881818     -87.677606\n",
       "75%         7.000000         4.000000      41.889047     -87.627059\n",
       "max         9.000000         5.000000      42.049306     -87.607565"
      ]
     },
     "execution_count": 11,
     "metadata": {},
     "output_type": "execute_result"
    }
   ],
   "source": [
    "# Resumo das colunas numéricas\n",
    "df_food_delivery.describe()"
   ]
  },
  {
   "cell_type": "markdown",
   "metadata": {},
   "source": [
    "Começaremos criando uma tabela que nos fornecerá o número de vezes cada item foi solicitado em cada pedido."
   ]
  },
  {
   "cell_type": "code",
   "execution_count": 12,
   "metadata": {},
   "outputs": [],
   "source": [
    "# Lista para receber o total de pedidos\n",
    "total_pedidos = []"
   ]
  },
  {
   "cell_type": "markdown",
   "metadata": {},
   "source": [
    "Loop para criar a tabela pivot totalizando os itens por transação."
   ]
  },
  {
   "cell_type": "code",
   "execution_count": 13,
   "metadata": {},
   "outputs": [
    {
     "name": "stdout",
     "output_type": "stream",
     "text": [
      "\n",
      "Iniciando o agrupamento para o cálculo do total de pedidos. Seja paciente e aguarde...\n",
      "\n",
      "Agrupamento concluído!\n",
      "CPU times: user 2min 24s, sys: 981 ms, total: 2min 25s\n",
      "Wall time: 2min 26s\n"
     ]
    }
   ],
   "source": [
    "%%time\n",
    "\n",
    "print(\"\\nIniciando o agrupamento para o cálculo do total de pedidos. Seja paciente e aguarde...\")\n",
    "\n",
    "# Extraímos cada id e cada grupo do 'group by' por id_transacao\n",
    "for k, group in df_food_delivery.groupby('id_transacao'):\n",
    "    \n",
    "    # Extraímos cada id e cada grupo do group by por horario_pedido\n",
    "    for m, n in group.groupby('horario_pedido'):\n",
    "        \n",
    "        # Extraímos cada item de cada grupo\n",
    "        id_transacao = k\n",
    "        horario_pedido = m\n",
    "        localidade = n['localidade'].values.tolist()[0]\n",
    "        bebida = 0\n",
    "        pizza = 0\n",
    "        sobremesa = 0\n",
    "        salada = 0\n",
    "        n = n.reset_index(drop = True)\n",
    "        \n",
    "        # E então contabilizamos os itens pedidos\n",
    "        for i in range(len(n)):\n",
    "            item = n.loc[i, 'nome_item']\n",
    "            num = n.loc[i, 'quantidade_item']\n",
    "            \n",
    "            if item == 'bebida':\n",
    "                bebida = bebida + num\n",
    "            \n",
    "            elif item == 'pizza':\n",
    "                pizza = pizza + num\n",
    "            \n",
    "            elif item == 'sobremesa':\n",
    "                sobremesa = sobremesa + num\n",
    "            \n",
    "            elif item == 'salada':\n",
    "                salada = salada + num\n",
    "        \n",
    "        output = [id_transacao, horario_pedido, localidade, bebida, pizza, sobremesa, salada]\n",
    "        total_pedidos.append(output)\n",
    "        \n",
    "print(\"\\nAgrupamento concluído!\")"
   ]
  },
  {
   "cell_type": "code",
   "execution_count": 14,
   "metadata": {},
   "outputs": [],
   "source": [
    "# Convertemos a lista para dataframe\n",
    "df_item_pedidos = pd.DataFrame(total_pedidos)"
   ]
  },
  {
   "cell_type": "code",
   "execution_count": 15,
   "metadata": {},
   "outputs": [],
   "source": [
    "# Ajustamos os nomes das colunas\n",
    "df_item_pedidos.columns = ['id_transacao', 'horario_pedido', 'localidade', 'bebida', 'pizza', 'sobremesa', 'salada']"
   ]
  },
  {
   "cell_type": "code",
   "execution_count": 16,
   "metadata": {},
   "outputs": [
    {
     "data": {
      "text/plain": [
       "(100000, 7)"
      ]
     },
     "execution_count": 16,
     "metadata": {},
     "output_type": "execute_result"
    }
   ],
   "source": [
    "# Shape\n",
    "df_item_pedidos.shape"
   ]
  },
  {
   "cell_type": "code",
   "execution_count": 17,
   "metadata": {},
   "outputs": [
    {
     "data": {
      "text/plain": [
       "id_transacao      100000\n",
       "horario_pedido     76799\n",
       "localidade             9\n",
       "bebida                 6\n",
       "pizza                  6\n",
       "sobremesa              5\n",
       "salada                 6\n",
       "dtype: int64"
      ]
     },
     "execution_count": 17,
     "metadata": {},
     "output_type": "execute_result"
    }
   ],
   "source": [
    "# Verifica o total de valores únicos por coluna\n",
    "df_item_pedidos.nunique()"
   ]
  },
  {
   "cell_type": "code",
   "execution_count": 18,
   "metadata": {},
   "outputs": [
    {
     "data": {
      "text/html": [
       "<div>\n",
       "<style scoped>\n",
       "    .dataframe tbody tr th:only-of-type {\n",
       "        vertical-align: middle;\n",
       "    }\n",
       "\n",
       "    .dataframe tbody tr th {\n",
       "        vertical-align: top;\n",
       "    }\n",
       "\n",
       "    .dataframe thead th {\n",
       "        text-align: right;\n",
       "    }\n",
       "</style>\n",
       "<table border=\"1\" class=\"dataframe\">\n",
       "  <thead>\n",
       "    <tr style=\"text-align: right;\">\n",
       "      <th></th>\n",
       "      <th>id_transacao</th>\n",
       "      <th>horario_pedido</th>\n",
       "      <th>localidade</th>\n",
       "      <th>nome_item</th>\n",
       "      <th>quantidade_item</th>\n",
       "      <th>latitude</th>\n",
       "      <th>longitude</th>\n",
       "    </tr>\n",
       "  </thead>\n",
       "  <tbody>\n",
       "    <tr>\n",
       "      <th>0</th>\n",
       "      <td>0x7901ee</td>\n",
       "      <td>2019-01-16 18:33:00</td>\n",
       "      <td>7</td>\n",
       "      <td>bebida</td>\n",
       "      <td>2</td>\n",
       "      <td>41.794132</td>\n",
       "      <td>-88.010140</td>\n",
       "    </tr>\n",
       "    <tr>\n",
       "      <th>1</th>\n",
       "      <td>0x7901ee</td>\n",
       "      <td>2019-01-16 18:33:00</td>\n",
       "      <td>7</td>\n",
       "      <td>pizza</td>\n",
       "      <td>2</td>\n",
       "      <td>41.794132</td>\n",
       "      <td>-88.010140</td>\n",
       "    </tr>\n",
       "    <tr>\n",
       "      <th>2</th>\n",
       "      <td>0x7901ee</td>\n",
       "      <td>2019-01-16 18:33:00</td>\n",
       "      <td>7</td>\n",
       "      <td>sobremesa</td>\n",
       "      <td>2</td>\n",
       "      <td>41.794132</td>\n",
       "      <td>-88.010140</td>\n",
       "    </tr>\n",
       "    <tr>\n",
       "      <th>3</th>\n",
       "      <td>0x12b47f</td>\n",
       "      <td>2019-09-04 12:36:00</td>\n",
       "      <td>3</td>\n",
       "      <td>salada</td>\n",
       "      <td>1</td>\n",
       "      <td>41.884490</td>\n",
       "      <td>-87.627059</td>\n",
       "    </tr>\n",
       "    <tr>\n",
       "      <th>4</th>\n",
       "      <td>0x12b47f</td>\n",
       "      <td>2019-09-04 12:36:00</td>\n",
       "      <td>3</td>\n",
       "      <td>sobremesa</td>\n",
       "      <td>1</td>\n",
       "      <td>41.884490</td>\n",
       "      <td>-87.627059</td>\n",
       "    </tr>\n",
       "  </tbody>\n",
       "</table>\n",
       "</div>"
      ],
      "text/plain": [
       "  id_transacao       horario_pedido  localidade  nome_item  quantidade_item  \\\n",
       "0     0x7901ee  2019-01-16 18:33:00           7     bebida                2   \n",
       "1     0x7901ee  2019-01-16 18:33:00           7      pizza                2   \n",
       "2     0x7901ee  2019-01-16 18:33:00           7  sobremesa                2   \n",
       "3     0x12b47f  2019-09-04 12:36:00           3     salada                1   \n",
       "4     0x12b47f  2019-09-04 12:36:00           3  sobremesa                1   \n",
       "\n",
       "    latitude  longitude  \n",
       "0  41.794132 -88.010140  \n",
       "1  41.794132 -88.010140  \n",
       "2  41.794132 -88.010140  \n",
       "3  41.884490 -87.627059  \n",
       "4  41.884490 -87.627059  "
      ]
     },
     "execution_count": 18,
     "metadata": {},
     "output_type": "execute_result"
    }
   ],
   "source": [
    "# Visualiza os dados originais\n",
    "df_food_delivery.head()"
   ]
  },
  {
   "cell_type": "code",
   "execution_count": 19,
   "metadata": {},
   "outputs": [
    {
     "data": {
      "text/html": [
       "<div>\n",
       "<style scoped>\n",
       "    .dataframe tbody tr th:only-of-type {\n",
       "        vertical-align: middle;\n",
       "    }\n",
       "\n",
       "    .dataframe tbody tr th {\n",
       "        vertical-align: top;\n",
       "    }\n",
       "\n",
       "    .dataframe thead th {\n",
       "        text-align: right;\n",
       "    }\n",
       "</style>\n",
       "<table border=\"1\" class=\"dataframe\">\n",
       "  <thead>\n",
       "    <tr style=\"text-align: right;\">\n",
       "      <th></th>\n",
       "      <th>id_transacao</th>\n",
       "      <th>horario_pedido</th>\n",
       "      <th>localidade</th>\n",
       "      <th>bebida</th>\n",
       "      <th>pizza</th>\n",
       "      <th>sobremesa</th>\n",
       "      <th>salada</th>\n",
       "    </tr>\n",
       "  </thead>\n",
       "  <tbody>\n",
       "    <tr>\n",
       "      <th>0</th>\n",
       "      <td>0x10000a</td>\n",
       "      <td>2019-01-29 00:48:00</td>\n",
       "      <td>9</td>\n",
       "      <td>0</td>\n",
       "      <td>1</td>\n",
       "      <td>1</td>\n",
       "      <td>0</td>\n",
       "    </tr>\n",
       "    <tr>\n",
       "      <th>1</th>\n",
       "      <td>0x100058</td>\n",
       "      <td>2019-05-05 00:08:00</td>\n",
       "      <td>6</td>\n",
       "      <td>0</td>\n",
       "      <td>2</td>\n",
       "      <td>2</td>\n",
       "      <td>0</td>\n",
       "    </tr>\n",
       "    <tr>\n",
       "      <th>2</th>\n",
       "      <td>0x1000c8</td>\n",
       "      <td>2019-01-28 19:24:00</td>\n",
       "      <td>9</td>\n",
       "      <td>4</td>\n",
       "      <td>4</td>\n",
       "      <td>5</td>\n",
       "      <td>1</td>\n",
       "    </tr>\n",
       "    <tr>\n",
       "      <th>3</th>\n",
       "      <td>0x10014c</td>\n",
       "      <td>2019-02-23 00:15:00</td>\n",
       "      <td>6</td>\n",
       "      <td>0</td>\n",
       "      <td>1</td>\n",
       "      <td>1</td>\n",
       "      <td>0</td>\n",
       "    </tr>\n",
       "    <tr>\n",
       "      <th>4</th>\n",
       "      <td>0x1001d8</td>\n",
       "      <td>2019-06-30 17:50:00</td>\n",
       "      <td>2</td>\n",
       "      <td>3</td>\n",
       "      <td>3</td>\n",
       "      <td>3</td>\n",
       "      <td>0</td>\n",
       "    </tr>\n",
       "    <tr>\n",
       "      <th>5</th>\n",
       "      <td>0x1002af</td>\n",
       "      <td>2019-12-28 17:25:00</td>\n",
       "      <td>9</td>\n",
       "      <td>3</td>\n",
       "      <td>3</td>\n",
       "      <td>4</td>\n",
       "      <td>1</td>\n",
       "    </tr>\n",
       "    <tr>\n",
       "      <th>6</th>\n",
       "      <td>0x10034c</td>\n",
       "      <td>2019-03-12 18:17:00</td>\n",
       "      <td>5</td>\n",
       "      <td>3</td>\n",
       "      <td>4</td>\n",
       "      <td>4</td>\n",
       "      <td>0</td>\n",
       "    </tr>\n",
       "    <tr>\n",
       "      <th>7</th>\n",
       "      <td>0x100378</td>\n",
       "      <td>2019-10-13 18:44:00</td>\n",
       "      <td>4</td>\n",
       "      <td>4</td>\n",
       "      <td>4</td>\n",
       "      <td>5</td>\n",
       "      <td>1</td>\n",
       "    </tr>\n",
       "    <tr>\n",
       "      <th>8</th>\n",
       "      <td>0x100391</td>\n",
       "      <td>2019-10-10 18:07:00</td>\n",
       "      <td>5</td>\n",
       "      <td>4</td>\n",
       "      <td>4</td>\n",
       "      <td>4</td>\n",
       "      <td>0</td>\n",
       "    </tr>\n",
       "    <tr>\n",
       "      <th>9</th>\n",
       "      <td>0x1003a9</td>\n",
       "      <td>2019-06-23 00:39:00</td>\n",
       "      <td>6</td>\n",
       "      <td>0</td>\n",
       "      <td>2</td>\n",
       "      <td>2</td>\n",
       "      <td>0</td>\n",
       "    </tr>\n",
       "  </tbody>\n",
       "</table>\n",
       "</div>"
      ],
      "text/plain": [
       "  id_transacao       horario_pedido  localidade  bebida  pizza  sobremesa  \\\n",
       "0     0x10000a  2019-01-29 00:48:00           9       0      1          1   \n",
       "1     0x100058  2019-05-05 00:08:00           6       0      2          2   \n",
       "2     0x1000c8  2019-01-28 19:24:00           9       4      4          5   \n",
       "3     0x10014c  2019-02-23 00:15:00           6       0      1          1   \n",
       "4     0x1001d8  2019-06-30 17:50:00           2       3      3          3   \n",
       "5     0x1002af  2019-12-28 17:25:00           9       3      3          4   \n",
       "6     0x10034c  2019-03-12 18:17:00           5       3      4          4   \n",
       "7     0x100378  2019-10-13 18:44:00           4       4      4          5   \n",
       "8     0x100391  2019-10-10 18:07:00           5       4      4          4   \n",
       "9     0x1003a9  2019-06-23 00:39:00           6       0      2          2   \n",
       "\n",
       "   salada  \n",
       "0       0  \n",
       "1       0  \n",
       "2       1  \n",
       "3       0  \n",
       "4       0  \n",
       "5       1  \n",
       "6       0  \n",
       "7       1  \n",
       "8       0  \n",
       "9       0  "
      ]
     },
     "execution_count": 19,
     "metadata": {},
     "output_type": "execute_result"
    }
   ],
   "source": [
    "# Visualiza o resultado do pivot\n",
    "df_item_pedidos.head(10)"
   ]
  },
  {
   "cell_type": "code",
   "execution_count": 20,
   "metadata": {},
   "outputs": [
    {
     "data": {
      "text/html": [
       "<div>\n",
       "<style scoped>\n",
       "    .dataframe tbody tr th:only-of-type {\n",
       "        vertical-align: middle;\n",
       "    }\n",
       "\n",
       "    .dataframe tbody tr th {\n",
       "        vertical-align: top;\n",
       "    }\n",
       "\n",
       "    .dataframe thead th {\n",
       "        text-align: right;\n",
       "    }\n",
       "</style>\n",
       "<table border=\"1\" class=\"dataframe\">\n",
       "  <thead>\n",
       "    <tr style=\"text-align: right;\">\n",
       "      <th></th>\n",
       "      <th>id_transacao</th>\n",
       "      <th>horario_pedido</th>\n",
       "      <th>localidade</th>\n",
       "      <th>nome_item</th>\n",
       "      <th>quantidade_item</th>\n",
       "      <th>latitude</th>\n",
       "      <th>longitude</th>\n",
       "    </tr>\n",
       "  </thead>\n",
       "  <tbody>\n",
       "    <tr>\n",
       "      <th>0</th>\n",
       "      <td>0x7901ee</td>\n",
       "      <td>2019-01-16 18:33:00</td>\n",
       "      <td>7</td>\n",
       "      <td>bebida</td>\n",
       "      <td>2</td>\n",
       "      <td>41.794132</td>\n",
       "      <td>-88.010140</td>\n",
       "    </tr>\n",
       "    <tr>\n",
       "      <th>1</th>\n",
       "      <td>0x7901ee</td>\n",
       "      <td>2019-01-16 18:33:00</td>\n",
       "      <td>7</td>\n",
       "      <td>pizza</td>\n",
       "      <td>2</td>\n",
       "      <td>41.794132</td>\n",
       "      <td>-88.010140</td>\n",
       "    </tr>\n",
       "    <tr>\n",
       "      <th>2</th>\n",
       "      <td>0x7901ee</td>\n",
       "      <td>2019-01-16 18:33:00</td>\n",
       "      <td>7</td>\n",
       "      <td>sobremesa</td>\n",
       "      <td>2</td>\n",
       "      <td>41.794132</td>\n",
       "      <td>-88.010140</td>\n",
       "    </tr>\n",
       "    <tr>\n",
       "      <th>3</th>\n",
       "      <td>0x12b47f</td>\n",
       "      <td>2019-09-04 12:36:00</td>\n",
       "      <td>3</td>\n",
       "      <td>salada</td>\n",
       "      <td>1</td>\n",
       "      <td>41.884490</td>\n",
       "      <td>-87.627059</td>\n",
       "    </tr>\n",
       "    <tr>\n",
       "      <th>4</th>\n",
       "      <td>0x12b47f</td>\n",
       "      <td>2019-09-04 12:36:00</td>\n",
       "      <td>3</td>\n",
       "      <td>sobremesa</td>\n",
       "      <td>1</td>\n",
       "      <td>41.884490</td>\n",
       "      <td>-87.627059</td>\n",
       "    </tr>\n",
       "  </tbody>\n",
       "</table>\n",
       "</div>"
      ],
      "text/plain": [
       "  id_transacao       horario_pedido  localidade  nome_item  quantidade_item  \\\n",
       "0     0x7901ee  2019-01-16 18:33:00           7     bebida                2   \n",
       "1     0x7901ee  2019-01-16 18:33:00           7      pizza                2   \n",
       "2     0x7901ee  2019-01-16 18:33:00           7  sobremesa                2   \n",
       "3     0x12b47f  2019-09-04 12:36:00           3     salada                1   \n",
       "4     0x12b47f  2019-09-04 12:36:00           3  sobremesa                1   \n",
       "\n",
       "    latitude  longitude  \n",
       "0  41.794132 -88.010140  \n",
       "1  41.794132 -88.010140  \n",
       "2  41.794132 -88.010140  \n",
       "3  41.884490 -87.627059  \n",
       "4  41.884490 -87.627059  "
      ]
     },
     "execution_count": 20,
     "metadata": {},
     "output_type": "execute_result"
    }
   ],
   "source": [
    "# Visualiza os dados originais\n",
    "df_food_delivery.head()"
   ]
  },
  {
   "cell_type": "code",
   "execution_count": 21,
   "metadata": {},
   "outputs": [
    {
     "data": {
      "text/plain": [
       "(260645, 7)"
      ]
     },
     "execution_count": 21,
     "metadata": {},
     "output_type": "execute_result"
    }
   ],
   "source": [
    "# Shape\n",
    "df_food_delivery.shape"
   ]
  },
  {
   "cell_type": "code",
   "execution_count": 22,
   "metadata": {},
   "outputs": [
    {
     "data": {
      "text/html": [
       "<div>\n",
       "<style scoped>\n",
       "    .dataframe tbody tr th:only-of-type {\n",
       "        vertical-align: middle;\n",
       "    }\n",
       "\n",
       "    .dataframe tbody tr th {\n",
       "        vertical-align: top;\n",
       "    }\n",
       "\n",
       "    .dataframe thead th {\n",
       "        text-align: right;\n",
       "    }\n",
       "</style>\n",
       "<table border=\"1\" class=\"dataframe\">\n",
       "  <thead>\n",
       "    <tr style=\"text-align: right;\">\n",
       "      <th></th>\n",
       "      <th>id_transacao</th>\n",
       "      <th>horario_pedido</th>\n",
       "      <th>localidade</th>\n",
       "      <th>bebida</th>\n",
       "      <th>pizza</th>\n",
       "      <th>sobremesa</th>\n",
       "      <th>salada</th>\n",
       "    </tr>\n",
       "  </thead>\n",
       "  <tbody>\n",
       "    <tr>\n",
       "      <th>0</th>\n",
       "      <td>0x10000a</td>\n",
       "      <td>2019-01-29 00:48:00</td>\n",
       "      <td>9</td>\n",
       "      <td>0</td>\n",
       "      <td>1</td>\n",
       "      <td>1</td>\n",
       "      <td>0</td>\n",
       "    </tr>\n",
       "    <tr>\n",
       "      <th>1</th>\n",
       "      <td>0x100058</td>\n",
       "      <td>2019-05-05 00:08:00</td>\n",
       "      <td>6</td>\n",
       "      <td>0</td>\n",
       "      <td>2</td>\n",
       "      <td>2</td>\n",
       "      <td>0</td>\n",
       "    </tr>\n",
       "    <tr>\n",
       "      <th>2</th>\n",
       "      <td>0x1000c8</td>\n",
       "      <td>2019-01-28 19:24:00</td>\n",
       "      <td>9</td>\n",
       "      <td>4</td>\n",
       "      <td>4</td>\n",
       "      <td>5</td>\n",
       "      <td>1</td>\n",
       "    </tr>\n",
       "    <tr>\n",
       "      <th>3</th>\n",
       "      <td>0x10014c</td>\n",
       "      <td>2019-02-23 00:15:00</td>\n",
       "      <td>6</td>\n",
       "      <td>0</td>\n",
       "      <td>1</td>\n",
       "      <td>1</td>\n",
       "      <td>0</td>\n",
       "    </tr>\n",
       "    <tr>\n",
       "      <th>4</th>\n",
       "      <td>0x1001d8</td>\n",
       "      <td>2019-06-30 17:50:00</td>\n",
       "      <td>2</td>\n",
       "      <td>3</td>\n",
       "      <td>3</td>\n",
       "      <td>3</td>\n",
       "      <td>0</td>\n",
       "    </tr>\n",
       "  </tbody>\n",
       "</table>\n",
       "</div>"
      ],
      "text/plain": [
       "  id_transacao       horario_pedido  localidade  bebida  pizza  sobremesa  \\\n",
       "0     0x10000a  2019-01-29 00:48:00           9       0      1          1   \n",
       "1     0x100058  2019-05-05 00:08:00           6       0      2          2   \n",
       "2     0x1000c8  2019-01-28 19:24:00           9       4      4          5   \n",
       "3     0x10014c  2019-02-23 00:15:00           6       0      1          1   \n",
       "4     0x1001d8  2019-06-30 17:50:00           2       3      3          3   \n",
       "\n",
       "   salada  \n",
       "0       0  \n",
       "1       0  \n",
       "2       1  \n",
       "3       0  \n",
       "4       0  "
      ]
     },
     "execution_count": 22,
     "metadata": {},
     "output_type": "execute_result"
    }
   ],
   "source": [
    "# Visualiza os dados modificados\n",
    "df_item_pedidos.head()"
   ]
  },
  {
   "cell_type": "code",
   "execution_count": 23,
   "metadata": {},
   "outputs": [
    {
     "data": {
      "text/plain": [
       "(100000, 7)"
      ]
     },
     "execution_count": 23,
     "metadata": {},
     "output_type": "execute_result"
    }
   ],
   "source": [
    "# Shape\n",
    "df_item_pedidos.shape"
   ]
  },
  {
   "cell_type": "code",
   "execution_count": 24,
   "metadata": {},
   "outputs": [
    {
     "data": {
      "text/plain": [
       "pandas.core.frame.DataFrame"
      ]
     },
     "execution_count": 24,
     "metadata": {},
     "output_type": "execute_result"
    }
   ],
   "source": [
    "# Tipo do objeto\n",
    "type(df_food_delivery)"
   ]
  },
  {
   "cell_type": "code",
   "execution_count": 25,
   "metadata": {},
   "outputs": [],
   "source": [
    "# Vamos criar uma tabela pivot com id_transacao, nome_item e quantidade_item\n",
    "df_pivot = df_food_delivery.pivot_table(index = ['id_transacao'], columns = ['nome_item'], values = 'quantidade_item')"
   ]
  },
  {
   "cell_type": "code",
   "execution_count": 26,
   "metadata": {},
   "outputs": [],
   "source": [
    "# Substituímos possíveis valores NA gerados no pivot, por 0 e transformamos o índice em coluna\n",
    "df_pivot = df_pivot.fillna(0).reset_index()"
   ]
  },
  {
   "cell_type": "code",
   "execution_count": 27,
   "metadata": {},
   "outputs": [
    {
     "data": {
      "text/plain": [
       "pandas.core.frame.DataFrame"
      ]
     },
     "execution_count": 27,
     "metadata": {},
     "output_type": "execute_result"
    }
   ],
   "source": [
    "# Tipo do objeto\n",
    "type(df_pivot)"
   ]
  },
  {
   "cell_type": "code",
   "execution_count": 28,
   "metadata": {},
   "outputs": [
    {
     "data": {
      "text/plain": [
       "nome_item\n",
       "id_transacao     object\n",
       "bebida          float64\n",
       "pizza           float64\n",
       "salada          float64\n",
       "sobremesa       float64\n",
       "dtype: object"
      ]
     },
     "execution_count": 28,
     "metadata": {},
     "output_type": "execute_result"
    }
   ],
   "source": [
    "# Tipos de dados nas colunas\n",
    "df_pivot.dtypes"
   ]
  },
  {
   "cell_type": "code",
   "execution_count": 29,
   "metadata": {},
   "outputs": [
    {
     "data": {
      "text/plain": [
       "Index(['id_transacao', 'bebida', 'pizza', 'salada', 'sobremesa'], dtype='object', name='nome_item')"
      ]
     },
     "execution_count": 29,
     "metadata": {},
     "output_type": "execute_result"
    }
   ],
   "source": [
    "# Nomes das colunas\n",
    "df_pivot.columns"
   ]
  },
  {
   "cell_type": "code",
   "execution_count": 30,
   "metadata": {},
   "outputs": [
    {
     "data": {
      "text/html": [
       "<div>\n",
       "<style scoped>\n",
       "    .dataframe tbody tr th:only-of-type {\n",
       "        vertical-align: middle;\n",
       "    }\n",
       "\n",
       "    .dataframe tbody tr th {\n",
       "        vertical-align: top;\n",
       "    }\n",
       "\n",
       "    .dataframe thead th {\n",
       "        text-align: right;\n",
       "    }\n",
       "</style>\n",
       "<table border=\"1\" class=\"dataframe\">\n",
       "  <thead>\n",
       "    <tr style=\"text-align: right;\">\n",
       "      <th>nome_item</th>\n",
       "      <th>id_transacao</th>\n",
       "      <th>bebida</th>\n",
       "      <th>pizza</th>\n",
       "      <th>salada</th>\n",
       "      <th>sobremesa</th>\n",
       "    </tr>\n",
       "  </thead>\n",
       "  <tbody>\n",
       "    <tr>\n",
       "      <th>0</th>\n",
       "      <td>0x10000a</td>\n",
       "      <td>0.0</td>\n",
       "      <td>1.0</td>\n",
       "      <td>0.0</td>\n",
       "      <td>1.0</td>\n",
       "    </tr>\n",
       "    <tr>\n",
       "      <th>1</th>\n",
       "      <td>0x100058</td>\n",
       "      <td>0.0</td>\n",
       "      <td>2.0</td>\n",
       "      <td>0.0</td>\n",
       "      <td>2.0</td>\n",
       "    </tr>\n",
       "    <tr>\n",
       "      <th>2</th>\n",
       "      <td>0x1000c8</td>\n",
       "      <td>4.0</td>\n",
       "      <td>4.0</td>\n",
       "      <td>1.0</td>\n",
       "      <td>5.0</td>\n",
       "    </tr>\n",
       "    <tr>\n",
       "      <th>3</th>\n",
       "      <td>0x10014c</td>\n",
       "      <td>0.0</td>\n",
       "      <td>1.0</td>\n",
       "      <td>0.0</td>\n",
       "      <td>1.0</td>\n",
       "    </tr>\n",
       "    <tr>\n",
       "      <th>4</th>\n",
       "      <td>0x1001d8</td>\n",
       "      <td>3.0</td>\n",
       "      <td>3.0</td>\n",
       "      <td>0.0</td>\n",
       "      <td>3.0</td>\n",
       "    </tr>\n",
       "  </tbody>\n",
       "</table>\n",
       "</div>"
      ],
      "text/plain": [
       "nome_item id_transacao  bebida  pizza  salada  sobremesa\n",
       "0             0x10000a     0.0    1.0     0.0        1.0\n",
       "1             0x100058     0.0    2.0     0.0        2.0\n",
       "2             0x1000c8     4.0    4.0     1.0        5.0\n",
       "3             0x10014c     0.0    1.0     0.0        1.0\n",
       "4             0x1001d8     3.0    3.0     0.0        3.0"
      ]
     },
     "execution_count": 30,
     "metadata": {},
     "output_type": "execute_result"
    }
   ],
   "source": [
    "# Visualiza os dados\n",
    "df_pivot.head()"
   ]
  },
  {
   "cell_type": "code",
   "execution_count": 31,
   "metadata": {
    "scrolled": true
   },
   "outputs": [
    {
     "data": {
      "text/plain": [
       "nome_item\n",
       "id_transacao    100000\n",
       "bebida               6\n",
       "pizza                6\n",
       "salada               6\n",
       "sobremesa            5\n",
       "dtype: int64"
      ]
     },
     "execution_count": 31,
     "metadata": {},
     "output_type": "execute_result"
    }
   ],
   "source": [
    "# Valores únicos\n",
    "df_pivot.nunique()"
   ]
  },
  {
   "cell_type": "code",
   "execution_count": 32,
   "metadata": {},
   "outputs": [
    {
     "data": {
      "text/plain": [
       "(100000, 5)"
      ]
     },
     "execution_count": 32,
     "metadata": {},
     "output_type": "execute_result"
    }
   ],
   "source": [
    "# Shape\n",
    "df_pivot.shape"
   ]
  },
  {
   "cell_type": "code",
   "execution_count": 33,
   "metadata": {},
   "outputs": [
    {
     "data": {
      "text/html": [
       "<div>\n",
       "<style scoped>\n",
       "    .dataframe tbody tr th:only-of-type {\n",
       "        vertical-align: middle;\n",
       "    }\n",
       "\n",
       "    .dataframe tbody tr th {\n",
       "        vertical-align: top;\n",
       "    }\n",
       "\n",
       "    .dataframe thead th {\n",
       "        text-align: right;\n",
       "    }\n",
       "</style>\n",
       "<table border=\"1\" class=\"dataframe\">\n",
       "  <thead>\n",
       "    <tr style=\"text-align: right;\">\n",
       "      <th>nome_item</th>\n",
       "      <th>bebida</th>\n",
       "      <th>pizza</th>\n",
       "      <th>salada</th>\n",
       "      <th>sobremesa</th>\n",
       "    </tr>\n",
       "  </thead>\n",
       "  <tbody>\n",
       "    <tr>\n",
       "      <th>count</th>\n",
       "      <td>100000.000000</td>\n",
       "      <td>100000.000000</td>\n",
       "      <td>100000.000000</td>\n",
       "      <td>100000.000000</td>\n",
       "    </tr>\n",
       "    <tr>\n",
       "      <th>mean</th>\n",
       "      <td>1.239590</td>\n",
       "      <td>1.857840</td>\n",
       "      <td>0.711370</td>\n",
       "      <td>2.569210</td>\n",
       "    </tr>\n",
       "    <tr>\n",
       "      <th>std</th>\n",
       "      <td>1.627886</td>\n",
       "      <td>1.588589</td>\n",
       "      <td>1.086524</td>\n",
       "      <td>1.332084</td>\n",
       "    </tr>\n",
       "    <tr>\n",
       "      <th>min</th>\n",
       "      <td>0.000000</td>\n",
       "      <td>0.000000</td>\n",
       "      <td>0.000000</td>\n",
       "      <td>1.000000</td>\n",
       "    </tr>\n",
       "    <tr>\n",
       "      <th>25%</th>\n",
       "      <td>0.000000</td>\n",
       "      <td>1.000000</td>\n",
       "      <td>0.000000</td>\n",
       "      <td>1.000000</td>\n",
       "    </tr>\n",
       "    <tr>\n",
       "      <th>50%</th>\n",
       "      <td>0.000000</td>\n",
       "      <td>1.000000</td>\n",
       "      <td>0.000000</td>\n",
       "      <td>2.000000</td>\n",
       "    </tr>\n",
       "    <tr>\n",
       "      <th>75%</th>\n",
       "      <td>3.000000</td>\n",
       "      <td>3.000000</td>\n",
       "      <td>1.000000</td>\n",
       "      <td>4.000000</td>\n",
       "    </tr>\n",
       "    <tr>\n",
       "      <th>max</th>\n",
       "      <td>5.000000</td>\n",
       "      <td>5.000000</td>\n",
       "      <td>5.000000</td>\n",
       "      <td>5.000000</td>\n",
       "    </tr>\n",
       "  </tbody>\n",
       "</table>\n",
       "</div>"
      ],
      "text/plain": [
       "nome_item         bebida          pizza         salada      sobremesa\n",
       "count      100000.000000  100000.000000  100000.000000  100000.000000\n",
       "mean            1.239590       1.857840       0.711370       2.569210\n",
       "std             1.627886       1.588589       1.086524       1.332084\n",
       "min             0.000000       0.000000       0.000000       1.000000\n",
       "25%             0.000000       1.000000       0.000000       1.000000\n",
       "50%             0.000000       1.000000       0.000000       2.000000\n",
       "75%             3.000000       3.000000       1.000000       4.000000\n",
       "max             5.000000       5.000000       5.000000       5.000000"
      ]
     },
     "execution_count": 33,
     "metadata": {},
     "output_type": "execute_result"
    }
   ],
   "source": [
    "# Describe\n",
    "df_pivot.describe()"
   ]
  },
  {
   "cell_type": "code",
   "execution_count": 34,
   "metadata": {},
   "outputs": [
    {
     "data": {
      "text/plain": [
       "nome_item\n",
       "id_transacao    0\n",
       "bebida          0\n",
       "pizza           0\n",
       "salada          0\n",
       "sobremesa       0\n",
       "dtype: int64"
      ]
     },
     "execution_count": 34,
     "metadata": {},
     "output_type": "execute_result"
    }
   ],
   "source": [
    "# Não podemos ter valores nulos\n",
    "df_pivot.isnull().sum()"
   ]
  },
  {
   "cell_type": "code",
   "execution_count": 35,
   "metadata": {},
   "outputs": [],
   "source": [
    "# Vamos incluir a coluna localidade e para fazer o merge precisamos de uma coluna em comum, nesse caso, id_transacao\n",
    "df_pivot2 = df_pivot.merge(df_food_delivery[['id_transacao', 'localidade']])"
   ]
  },
  {
   "cell_type": "code",
   "execution_count": 36,
   "metadata": {},
   "outputs": [
    {
     "data": {
      "text/html": [
       "<div>\n",
       "<style scoped>\n",
       "    .dataframe tbody tr th:only-of-type {\n",
       "        vertical-align: middle;\n",
       "    }\n",
       "\n",
       "    .dataframe tbody tr th {\n",
       "        vertical-align: top;\n",
       "    }\n",
       "\n",
       "    .dataframe thead th {\n",
       "        text-align: right;\n",
       "    }\n",
       "</style>\n",
       "<table border=\"1\" class=\"dataframe\">\n",
       "  <thead>\n",
       "    <tr style=\"text-align: right;\">\n",
       "      <th></th>\n",
       "      <th>id_transacao</th>\n",
       "      <th>bebida</th>\n",
       "      <th>pizza</th>\n",
       "      <th>salada</th>\n",
       "      <th>sobremesa</th>\n",
       "      <th>localidade</th>\n",
       "    </tr>\n",
       "  </thead>\n",
       "  <tbody>\n",
       "    <tr>\n",
       "      <th>0</th>\n",
       "      <td>0x10000a</td>\n",
       "      <td>0.0</td>\n",
       "      <td>1.0</td>\n",
       "      <td>0.0</td>\n",
       "      <td>1.0</td>\n",
       "      <td>9</td>\n",
       "    </tr>\n",
       "    <tr>\n",
       "      <th>1</th>\n",
       "      <td>0x10000a</td>\n",
       "      <td>0.0</td>\n",
       "      <td>1.0</td>\n",
       "      <td>0.0</td>\n",
       "      <td>1.0</td>\n",
       "      <td>9</td>\n",
       "    </tr>\n",
       "    <tr>\n",
       "      <th>2</th>\n",
       "      <td>0x100058</td>\n",
       "      <td>0.0</td>\n",
       "      <td>2.0</td>\n",
       "      <td>0.0</td>\n",
       "      <td>2.0</td>\n",
       "      <td>6</td>\n",
       "    </tr>\n",
       "    <tr>\n",
       "      <th>3</th>\n",
       "      <td>0x100058</td>\n",
       "      <td>0.0</td>\n",
       "      <td>2.0</td>\n",
       "      <td>0.0</td>\n",
       "      <td>2.0</td>\n",
       "      <td>6</td>\n",
       "    </tr>\n",
       "    <tr>\n",
       "      <th>4</th>\n",
       "      <td>0x1000c8</td>\n",
       "      <td>4.0</td>\n",
       "      <td>4.0</td>\n",
       "      <td>1.0</td>\n",
       "      <td>5.0</td>\n",
       "      <td>9</td>\n",
       "    </tr>\n",
       "  </tbody>\n",
       "</table>\n",
       "</div>"
      ],
      "text/plain": [
       "  id_transacao  bebida  pizza  salada  sobremesa  localidade\n",
       "0     0x10000a     0.0    1.0     0.0        1.0           9\n",
       "1     0x10000a     0.0    1.0     0.0        1.0           9\n",
       "2     0x100058     0.0    2.0     0.0        2.0           6\n",
       "3     0x100058     0.0    2.0     0.0        2.0           6\n",
       "4     0x1000c8     4.0    4.0     1.0        5.0           9"
      ]
     },
     "execution_count": 36,
     "metadata": {},
     "output_type": "execute_result"
    }
   ],
   "source": [
    "# Visualiza os dados\n",
    "df_pivot2.head()"
   ]
  },
  {
   "cell_type": "code",
   "execution_count": 37,
   "metadata": {},
   "outputs": [
    {
     "data": {
      "text/plain": [
       "id_transacao    100000\n",
       "bebida               6\n",
       "pizza                6\n",
       "salada               6\n",
       "sobremesa            5\n",
       "localidade           9\n",
       "dtype: int64"
      ]
     },
     "execution_count": 37,
     "metadata": {},
     "output_type": "execute_result"
    }
   ],
   "source": [
    "# Shape\n",
    "df_pivot2.nunique()"
   ]
  },
  {
   "cell_type": "code",
   "execution_count": 38,
   "metadata": {},
   "outputs": [
    {
     "data": {
      "text/html": [
       "<div>\n",
       "<style scoped>\n",
       "    .dataframe tbody tr th:only-of-type {\n",
       "        vertical-align: middle;\n",
       "    }\n",
       "\n",
       "    .dataframe tbody tr th {\n",
       "        vertical-align: top;\n",
       "    }\n",
       "\n",
       "    .dataframe thead th {\n",
       "        text-align: right;\n",
       "    }\n",
       "</style>\n",
       "<table border=\"1\" class=\"dataframe\">\n",
       "  <thead>\n",
       "    <tr style=\"text-align: right;\">\n",
       "      <th></th>\n",
       "      <th>id_transacao</th>\n",
       "      <th>horario_pedido</th>\n",
       "      <th>localidade</th>\n",
       "      <th>bebida</th>\n",
       "      <th>pizza</th>\n",
       "      <th>sobremesa</th>\n",
       "      <th>salada</th>\n",
       "    </tr>\n",
       "  </thead>\n",
       "  <tbody>\n",
       "    <tr>\n",
       "      <th>0</th>\n",
       "      <td>0x10000a</td>\n",
       "      <td>2019-01-29 00:48:00</td>\n",
       "      <td>9</td>\n",
       "      <td>0</td>\n",
       "      <td>1</td>\n",
       "      <td>1</td>\n",
       "      <td>0</td>\n",
       "    </tr>\n",
       "    <tr>\n",
       "      <th>1</th>\n",
       "      <td>0x100058</td>\n",
       "      <td>2019-05-05 00:08:00</td>\n",
       "      <td>6</td>\n",
       "      <td>0</td>\n",
       "      <td>2</td>\n",
       "      <td>2</td>\n",
       "      <td>0</td>\n",
       "    </tr>\n",
       "    <tr>\n",
       "      <th>2</th>\n",
       "      <td>0x1000c8</td>\n",
       "      <td>2019-01-28 19:24:00</td>\n",
       "      <td>9</td>\n",
       "      <td>4</td>\n",
       "      <td>4</td>\n",
       "      <td>5</td>\n",
       "      <td>1</td>\n",
       "    </tr>\n",
       "  </tbody>\n",
       "</table>\n",
       "</div>"
      ],
      "text/plain": [
       "  id_transacao       horario_pedido  localidade  bebida  pizza  sobremesa  \\\n",
       "0     0x10000a  2019-01-29 00:48:00           9       0      1          1   \n",
       "1     0x100058  2019-05-05 00:08:00           6       0      2          2   \n",
       "2     0x1000c8  2019-01-28 19:24:00           9       4      4          5   \n",
       "\n",
       "   salada  \n",
       "0       0  \n",
       "1       0  \n",
       "2       1  "
      ]
     },
     "execution_count": 38,
     "metadata": {},
     "output_type": "execute_result"
    }
   ],
   "source": [
    "# Visualiza os dados\n",
    "df_item_pedidos.head(3)"
   ]
  },
  {
   "cell_type": "code",
   "execution_count": 39,
   "metadata": {},
   "outputs": [],
   "source": [
    "# Extraímos o mês da coluna horario_pedido e gravamos em uma nova coluna\n",
    "df_item_pedidos['mes'] = df_item_pedidos['horario_pedido'].apply(lambda x: time.strftime(\"%m\", time.strptime(x,\"%Y-%m-%d %H:%M:%S\")))\n"
   ]
  },
  {
   "cell_type": "code",
   "execution_count": 40,
   "metadata": {},
   "outputs": [
    {
     "data": {
      "text/html": [
       "<div>\n",
       "<style scoped>\n",
       "    .dataframe tbody tr th:only-of-type {\n",
       "        vertical-align: middle;\n",
       "    }\n",
       "\n",
       "    .dataframe tbody tr th {\n",
       "        vertical-align: top;\n",
       "    }\n",
       "\n",
       "    .dataframe thead th {\n",
       "        text-align: right;\n",
       "    }\n",
       "</style>\n",
       "<table border=\"1\" class=\"dataframe\">\n",
       "  <thead>\n",
       "    <tr style=\"text-align: right;\">\n",
       "      <th></th>\n",
       "      <th>id_transacao</th>\n",
       "      <th>horario_pedido</th>\n",
       "      <th>localidade</th>\n",
       "      <th>bebida</th>\n",
       "      <th>pizza</th>\n",
       "      <th>sobremesa</th>\n",
       "      <th>salada</th>\n",
       "      <th>mes</th>\n",
       "    </tr>\n",
       "  </thead>\n",
       "  <tbody>\n",
       "    <tr>\n",
       "      <th>0</th>\n",
       "      <td>0x10000a</td>\n",
       "      <td>2019-01-29 00:48:00</td>\n",
       "      <td>9</td>\n",
       "      <td>0</td>\n",
       "      <td>1</td>\n",
       "      <td>1</td>\n",
       "      <td>0</td>\n",
       "      <td>01</td>\n",
       "    </tr>\n",
       "    <tr>\n",
       "      <th>1</th>\n",
       "      <td>0x100058</td>\n",
       "      <td>2019-05-05 00:08:00</td>\n",
       "      <td>6</td>\n",
       "      <td>0</td>\n",
       "      <td>2</td>\n",
       "      <td>2</td>\n",
       "      <td>0</td>\n",
       "      <td>05</td>\n",
       "    </tr>\n",
       "    <tr>\n",
       "      <th>2</th>\n",
       "      <td>0x1000c8</td>\n",
       "      <td>2019-01-28 19:24:00</td>\n",
       "      <td>9</td>\n",
       "      <td>4</td>\n",
       "      <td>4</td>\n",
       "      <td>5</td>\n",
       "      <td>1</td>\n",
       "      <td>01</td>\n",
       "    </tr>\n",
       "    <tr>\n",
       "      <th>3</th>\n",
       "      <td>0x10014c</td>\n",
       "      <td>2019-02-23 00:15:00</td>\n",
       "      <td>6</td>\n",
       "      <td>0</td>\n",
       "      <td>1</td>\n",
       "      <td>1</td>\n",
       "      <td>0</td>\n",
       "      <td>02</td>\n",
       "    </tr>\n",
       "    <tr>\n",
       "      <th>4</th>\n",
       "      <td>0x1001d8</td>\n",
       "      <td>2019-06-30 17:50:00</td>\n",
       "      <td>2</td>\n",
       "      <td>3</td>\n",
       "      <td>3</td>\n",
       "      <td>3</td>\n",
       "      <td>0</td>\n",
       "      <td>06</td>\n",
       "    </tr>\n",
       "    <tr>\n",
       "      <th>5</th>\n",
       "      <td>0x1002af</td>\n",
       "      <td>2019-12-28 17:25:00</td>\n",
       "      <td>9</td>\n",
       "      <td>3</td>\n",
       "      <td>3</td>\n",
       "      <td>4</td>\n",
       "      <td>1</td>\n",
       "      <td>12</td>\n",
       "    </tr>\n",
       "    <tr>\n",
       "      <th>6</th>\n",
       "      <td>0x10034c</td>\n",
       "      <td>2019-03-12 18:17:00</td>\n",
       "      <td>5</td>\n",
       "      <td>3</td>\n",
       "      <td>4</td>\n",
       "      <td>4</td>\n",
       "      <td>0</td>\n",
       "      <td>03</td>\n",
       "    </tr>\n",
       "    <tr>\n",
       "      <th>7</th>\n",
       "      <td>0x100378</td>\n",
       "      <td>2019-10-13 18:44:00</td>\n",
       "      <td>4</td>\n",
       "      <td>4</td>\n",
       "      <td>4</td>\n",
       "      <td>5</td>\n",
       "      <td>1</td>\n",
       "      <td>10</td>\n",
       "    </tr>\n",
       "    <tr>\n",
       "      <th>8</th>\n",
       "      <td>0x100391</td>\n",
       "      <td>2019-10-10 18:07:00</td>\n",
       "      <td>5</td>\n",
       "      <td>4</td>\n",
       "      <td>4</td>\n",
       "      <td>4</td>\n",
       "      <td>0</td>\n",
       "      <td>10</td>\n",
       "    </tr>\n",
       "    <tr>\n",
       "      <th>9</th>\n",
       "      <td>0x1003a9</td>\n",
       "      <td>2019-06-23 00:39:00</td>\n",
       "      <td>6</td>\n",
       "      <td>0</td>\n",
       "      <td>2</td>\n",
       "      <td>2</td>\n",
       "      <td>0</td>\n",
       "      <td>06</td>\n",
       "    </tr>\n",
       "  </tbody>\n",
       "</table>\n",
       "</div>"
      ],
      "text/plain": [
       "  id_transacao       horario_pedido  localidade  bebida  pizza  sobremesa  \\\n",
       "0     0x10000a  2019-01-29 00:48:00           9       0      1          1   \n",
       "1     0x100058  2019-05-05 00:08:00           6       0      2          2   \n",
       "2     0x1000c8  2019-01-28 19:24:00           9       4      4          5   \n",
       "3     0x10014c  2019-02-23 00:15:00           6       0      1          1   \n",
       "4     0x1001d8  2019-06-30 17:50:00           2       3      3          3   \n",
       "5     0x1002af  2019-12-28 17:25:00           9       3      3          4   \n",
       "6     0x10034c  2019-03-12 18:17:00           5       3      4          4   \n",
       "7     0x100378  2019-10-13 18:44:00           4       4      4          5   \n",
       "8     0x100391  2019-10-10 18:07:00           5       4      4          4   \n",
       "9     0x1003a9  2019-06-23 00:39:00           6       0      2          2   \n",
       "\n",
       "   salada mes  \n",
       "0       0  01  \n",
       "1       0  05  \n",
       "2       1  01  \n",
       "3       0  02  \n",
       "4       0  06  \n",
       "5       1  12  \n",
       "6       0  03  \n",
       "7       1  10  \n",
       "8       0  10  \n",
       "9       0  06  "
      ]
     },
     "execution_count": 40,
     "metadata": {},
     "output_type": "execute_result"
    }
   ],
   "source": [
    "# Visualiza o resultado\n",
    "df_item_pedidos.head(10)"
   ]
  },
  {
   "cell_type": "code",
   "execution_count": 41,
   "metadata": {},
   "outputs": [],
   "source": [
    "# Vamos incluir a coluna localidade e para fazer o merge precisamos de uma coluna em comum, nesse caso, id_transacao\n",
    "df_pivot = df_pivot.merge(df_item_pedidos[['id_transacao', 'mes']])"
   ]
  },
  {
   "cell_type": "code",
   "execution_count": 42,
   "metadata": {},
   "outputs": [
    {
     "data": {
      "text/html": [
       "<div>\n",
       "<style scoped>\n",
       "    .dataframe tbody tr th:only-of-type {\n",
       "        vertical-align: middle;\n",
       "    }\n",
       "\n",
       "    .dataframe tbody tr th {\n",
       "        vertical-align: top;\n",
       "    }\n",
       "\n",
       "    .dataframe thead th {\n",
       "        text-align: right;\n",
       "    }\n",
       "</style>\n",
       "<table border=\"1\" class=\"dataframe\">\n",
       "  <thead>\n",
       "    <tr style=\"text-align: right;\">\n",
       "      <th></th>\n",
       "      <th>id_transacao</th>\n",
       "      <th>bebida</th>\n",
       "      <th>pizza</th>\n",
       "      <th>salada</th>\n",
       "      <th>sobremesa</th>\n",
       "      <th>mes</th>\n",
       "    </tr>\n",
       "  </thead>\n",
       "  <tbody>\n",
       "    <tr>\n",
       "      <th>0</th>\n",
       "      <td>0x10000a</td>\n",
       "      <td>0.0</td>\n",
       "      <td>1.0</td>\n",
       "      <td>0.0</td>\n",
       "      <td>1.0</td>\n",
       "      <td>01</td>\n",
       "    </tr>\n",
       "    <tr>\n",
       "      <th>1</th>\n",
       "      <td>0x100058</td>\n",
       "      <td>0.0</td>\n",
       "      <td>2.0</td>\n",
       "      <td>0.0</td>\n",
       "      <td>2.0</td>\n",
       "      <td>05</td>\n",
       "    </tr>\n",
       "    <tr>\n",
       "      <th>2</th>\n",
       "      <td>0x1000c8</td>\n",
       "      <td>4.0</td>\n",
       "      <td>4.0</td>\n",
       "      <td>1.0</td>\n",
       "      <td>5.0</td>\n",
       "      <td>01</td>\n",
       "    </tr>\n",
       "    <tr>\n",
       "      <th>3</th>\n",
       "      <td>0x10014c</td>\n",
       "      <td>0.0</td>\n",
       "      <td>1.0</td>\n",
       "      <td>0.0</td>\n",
       "      <td>1.0</td>\n",
       "      <td>02</td>\n",
       "    </tr>\n",
       "    <tr>\n",
       "      <th>4</th>\n",
       "      <td>0x1001d8</td>\n",
       "      <td>3.0</td>\n",
       "      <td>3.0</td>\n",
       "      <td>0.0</td>\n",
       "      <td>3.0</td>\n",
       "      <td>06</td>\n",
       "    </tr>\n",
       "    <tr>\n",
       "      <th>5</th>\n",
       "      <td>0x1002af</td>\n",
       "      <td>3.0</td>\n",
       "      <td>3.0</td>\n",
       "      <td>1.0</td>\n",
       "      <td>4.0</td>\n",
       "      <td>12</td>\n",
       "    </tr>\n",
       "    <tr>\n",
       "      <th>6</th>\n",
       "      <td>0x10034c</td>\n",
       "      <td>3.0</td>\n",
       "      <td>4.0</td>\n",
       "      <td>0.0</td>\n",
       "      <td>4.0</td>\n",
       "      <td>03</td>\n",
       "    </tr>\n",
       "    <tr>\n",
       "      <th>7</th>\n",
       "      <td>0x100378</td>\n",
       "      <td>4.0</td>\n",
       "      <td>4.0</td>\n",
       "      <td>1.0</td>\n",
       "      <td>5.0</td>\n",
       "      <td>10</td>\n",
       "    </tr>\n",
       "    <tr>\n",
       "      <th>8</th>\n",
       "      <td>0x100391</td>\n",
       "      <td>4.0</td>\n",
       "      <td>4.0</td>\n",
       "      <td>0.0</td>\n",
       "      <td>4.0</td>\n",
       "      <td>10</td>\n",
       "    </tr>\n",
       "    <tr>\n",
       "      <th>9</th>\n",
       "      <td>0x1003a9</td>\n",
       "      <td>0.0</td>\n",
       "      <td>2.0</td>\n",
       "      <td>0.0</td>\n",
       "      <td>2.0</td>\n",
       "      <td>06</td>\n",
       "    </tr>\n",
       "  </tbody>\n",
       "</table>\n",
       "</div>"
      ],
      "text/plain": [
       "  id_transacao  bebida  pizza  salada  sobremesa mes\n",
       "0     0x10000a     0.0    1.0     0.0        1.0  01\n",
       "1     0x100058     0.0    2.0     0.0        2.0  05\n",
       "2     0x1000c8     4.0    4.0     1.0        5.0  01\n",
       "3     0x10014c     0.0    1.0     0.0        1.0  02\n",
       "4     0x1001d8     3.0    3.0     0.0        3.0  06\n",
       "5     0x1002af     3.0    3.0     1.0        4.0  12\n",
       "6     0x10034c     3.0    4.0     0.0        4.0  03\n",
       "7     0x100378     4.0    4.0     1.0        5.0  10\n",
       "8     0x100391     4.0    4.0     0.0        4.0  10\n",
       "9     0x1003a9     0.0    2.0     0.0        2.0  06"
      ]
     },
     "execution_count": 42,
     "metadata": {},
     "output_type": "execute_result"
    }
   ],
   "source": [
    "# Visualiza o resultado\n",
    "df_pivot.head(10)"
   ]
  },
  {
   "cell_type": "code",
   "execution_count": 43,
   "metadata": {},
   "outputs": [
    {
     "data": {
      "text/plain": [
       "id_transacao    100000\n",
       "bebida               6\n",
       "pizza                6\n",
       "salada               6\n",
       "sobremesa            5\n",
       "mes                 12\n",
       "dtype: int64"
      ]
     },
     "execution_count": 43,
     "metadata": {},
     "output_type": "execute_result"
    }
   ],
   "source": [
    "# Visualiza valores únicos\n",
    "df_pivot.nunique()"
   ]
  },
  {
   "cell_type": "markdown",
   "metadata": {},
   "source": [
    "### Ajuste de Índices"
   ]
  },
  {
   "cell_type": "code",
   "execution_count": 44,
   "metadata": {},
   "outputs": [
    {
     "data": {
      "text/html": [
       "<div>\n",
       "<style scoped>\n",
       "    .dataframe tbody tr th:only-of-type {\n",
       "        vertical-align: middle;\n",
       "    }\n",
       "\n",
       "    .dataframe tbody tr th {\n",
       "        vertical-align: top;\n",
       "    }\n",
       "\n",
       "    .dataframe thead th {\n",
       "        text-align: right;\n",
       "    }\n",
       "</style>\n",
       "<table border=\"1\" class=\"dataframe\">\n",
       "  <thead>\n",
       "    <tr style=\"text-align: right;\">\n",
       "      <th></th>\n",
       "      <th>id_transacao</th>\n",
       "      <th>horario_pedido</th>\n",
       "      <th>localidade</th>\n",
       "      <th>bebida</th>\n",
       "      <th>pizza</th>\n",
       "      <th>sobremesa</th>\n",
       "      <th>salada</th>\n",
       "      <th>mes</th>\n",
       "    </tr>\n",
       "  </thead>\n",
       "  <tbody>\n",
       "    <tr>\n",
       "      <th>0</th>\n",
       "      <td>0x10000a</td>\n",
       "      <td>2019-01-29 00:48:00</td>\n",
       "      <td>9</td>\n",
       "      <td>0</td>\n",
       "      <td>1</td>\n",
       "      <td>1</td>\n",
       "      <td>0</td>\n",
       "      <td>01</td>\n",
       "    </tr>\n",
       "    <tr>\n",
       "      <th>1</th>\n",
       "      <td>0x100058</td>\n",
       "      <td>2019-05-05 00:08:00</td>\n",
       "      <td>6</td>\n",
       "      <td>0</td>\n",
       "      <td>2</td>\n",
       "      <td>2</td>\n",
       "      <td>0</td>\n",
       "      <td>05</td>\n",
       "    </tr>\n",
       "    <tr>\n",
       "      <th>2</th>\n",
       "      <td>0x1000c8</td>\n",
       "      <td>2019-01-28 19:24:00</td>\n",
       "      <td>9</td>\n",
       "      <td>4</td>\n",
       "      <td>4</td>\n",
       "      <td>5</td>\n",
       "      <td>1</td>\n",
       "      <td>01</td>\n",
       "    </tr>\n",
       "    <tr>\n",
       "      <th>3</th>\n",
       "      <td>0x10014c</td>\n",
       "      <td>2019-02-23 00:15:00</td>\n",
       "      <td>6</td>\n",
       "      <td>0</td>\n",
       "      <td>1</td>\n",
       "      <td>1</td>\n",
       "      <td>0</td>\n",
       "      <td>02</td>\n",
       "    </tr>\n",
       "    <tr>\n",
       "      <th>4</th>\n",
       "      <td>0x1001d8</td>\n",
       "      <td>2019-06-30 17:50:00</td>\n",
       "      <td>2</td>\n",
       "      <td>3</td>\n",
       "      <td>3</td>\n",
       "      <td>3</td>\n",
       "      <td>0</td>\n",
       "      <td>06</td>\n",
       "    </tr>\n",
       "    <tr>\n",
       "      <th>...</th>\n",
       "      <td>...</td>\n",
       "      <td>...</td>\n",
       "      <td>...</td>\n",
       "      <td>...</td>\n",
       "      <td>...</td>\n",
       "      <td>...</td>\n",
       "      <td>...</td>\n",
       "      <td>...</td>\n",
       "    </tr>\n",
       "    <tr>\n",
       "      <th>99995</th>\n",
       "      <td>0xffe96</td>\n",
       "      <td>2019-01-05 19:28:00</td>\n",
       "      <td>4</td>\n",
       "      <td>4</td>\n",
       "      <td>4</td>\n",
       "      <td>4</td>\n",
       "      <td>0</td>\n",
       "      <td>01</td>\n",
       "    </tr>\n",
       "    <tr>\n",
       "      <th>99996</th>\n",
       "      <td>0xffeed</td>\n",
       "      <td>2019-08-08 00:42:00</td>\n",
       "      <td>2</td>\n",
       "      <td>0</td>\n",
       "      <td>1</td>\n",
       "      <td>1</td>\n",
       "      <td>0</td>\n",
       "      <td>08</td>\n",
       "    </tr>\n",
       "    <tr>\n",
       "      <th>99997</th>\n",
       "      <td>0xfff07</td>\n",
       "      <td>2019-05-04 00:48:00</td>\n",
       "      <td>2</td>\n",
       "      <td>1</td>\n",
       "      <td>1</td>\n",
       "      <td>1</td>\n",
       "      <td>0</td>\n",
       "      <td>05</td>\n",
       "    </tr>\n",
       "    <tr>\n",
       "      <th>99998</th>\n",
       "      <td>0xfff4d</td>\n",
       "      <td>2019-07-18 00:17:00</td>\n",
       "      <td>3</td>\n",
       "      <td>0</td>\n",
       "      <td>2</td>\n",
       "      <td>2</td>\n",
       "      <td>0</td>\n",
       "      <td>07</td>\n",
       "    </tr>\n",
       "    <tr>\n",
       "      <th>99999</th>\n",
       "      <td>0xfffb8</td>\n",
       "      <td>2019-11-07 00:05:00</td>\n",
       "      <td>2</td>\n",
       "      <td>0</td>\n",
       "      <td>1</td>\n",
       "      <td>1</td>\n",
       "      <td>0</td>\n",
       "      <td>11</td>\n",
       "    </tr>\n",
       "  </tbody>\n",
       "</table>\n",
       "<p>100000 rows × 8 columns</p>\n",
       "</div>"
      ],
      "text/plain": [
       "      id_transacao       horario_pedido  localidade  bebida  pizza  sobremesa  \\\n",
       "0         0x10000a  2019-01-29 00:48:00           9       0      1          1   \n",
       "1         0x100058  2019-05-05 00:08:00           6       0      2          2   \n",
       "2         0x1000c8  2019-01-28 19:24:00           9       4      4          5   \n",
       "3         0x10014c  2019-02-23 00:15:00           6       0      1          1   \n",
       "4         0x1001d8  2019-06-30 17:50:00           2       3      3          3   \n",
       "...            ...                  ...         ...     ...    ...        ...   \n",
       "99995      0xffe96  2019-01-05 19:28:00           4       4      4          4   \n",
       "99996      0xffeed  2019-08-08 00:42:00           2       0      1          1   \n",
       "99997      0xfff07  2019-05-04 00:48:00           2       1      1          1   \n",
       "99998      0xfff4d  2019-07-18 00:17:00           3       0      2          2   \n",
       "99999      0xfffb8  2019-11-07 00:05:00           2       0      1          1   \n",
       "\n",
       "       salada mes  \n",
       "0           0  01  \n",
       "1           0  05  \n",
       "2           1  01  \n",
       "3           0  02  \n",
       "4           0  06  \n",
       "...       ...  ..  \n",
       "99995       0  01  \n",
       "99996       0  08  \n",
       "99997       0  05  \n",
       "99998       0  07  \n",
       "99999       0  11  \n",
       "\n",
       "[100000 rows x 8 columns]"
      ]
     },
     "execution_count": 44,
     "metadata": {},
     "output_type": "execute_result"
    }
   ],
   "source": [
    "# Dataset\n",
    "df_item_pedidos"
   ]
  },
  {
   "cell_type": "code",
   "execution_count": 45,
   "metadata": {},
   "outputs": [
    {
     "data": {
      "text/plain": [
       "RangeIndex(start=0, stop=100000, step=1)"
      ]
     },
     "execution_count": 45,
     "metadata": {},
     "output_type": "execute_result"
    }
   ],
   "source": [
    "# Índice\n",
    "df_item_pedidos.index"
   ]
  },
  {
   "cell_type": "code",
   "execution_count": 46,
   "metadata": {},
   "outputs": [],
   "source": [
    "# Fazemos o reset no índice e gravamos o resultado em outro dataframe\n",
    "df_item_pedidos_idx = df_item_pedidos.reset_index()"
   ]
  },
  {
   "cell_type": "code",
   "execution_count": 47,
   "metadata": {},
   "outputs": [
    {
     "data": {
      "text/html": [
       "<div>\n",
       "<style scoped>\n",
       "    .dataframe tbody tr th:only-of-type {\n",
       "        vertical-align: middle;\n",
       "    }\n",
       "\n",
       "    .dataframe tbody tr th {\n",
       "        vertical-align: top;\n",
       "    }\n",
       "\n",
       "    .dataframe thead th {\n",
       "        text-align: right;\n",
       "    }\n",
       "</style>\n",
       "<table border=\"1\" class=\"dataframe\">\n",
       "  <thead>\n",
       "    <tr style=\"text-align: right;\">\n",
       "      <th></th>\n",
       "      <th>index</th>\n",
       "      <th>id_transacao</th>\n",
       "      <th>horario_pedido</th>\n",
       "      <th>localidade</th>\n",
       "      <th>bebida</th>\n",
       "      <th>pizza</th>\n",
       "      <th>sobremesa</th>\n",
       "      <th>salada</th>\n",
       "      <th>mes</th>\n",
       "    </tr>\n",
       "  </thead>\n",
       "  <tbody>\n",
       "    <tr>\n",
       "      <th>0</th>\n",
       "      <td>0</td>\n",
       "      <td>0x10000a</td>\n",
       "      <td>2019-01-29 00:48:00</td>\n",
       "      <td>9</td>\n",
       "      <td>0</td>\n",
       "      <td>1</td>\n",
       "      <td>1</td>\n",
       "      <td>0</td>\n",
       "      <td>01</td>\n",
       "    </tr>\n",
       "    <tr>\n",
       "      <th>1</th>\n",
       "      <td>1</td>\n",
       "      <td>0x100058</td>\n",
       "      <td>2019-05-05 00:08:00</td>\n",
       "      <td>6</td>\n",
       "      <td>0</td>\n",
       "      <td>2</td>\n",
       "      <td>2</td>\n",
       "      <td>0</td>\n",
       "      <td>05</td>\n",
       "    </tr>\n",
       "    <tr>\n",
       "      <th>2</th>\n",
       "      <td>2</td>\n",
       "      <td>0x1000c8</td>\n",
       "      <td>2019-01-28 19:24:00</td>\n",
       "      <td>9</td>\n",
       "      <td>4</td>\n",
       "      <td>4</td>\n",
       "      <td>5</td>\n",
       "      <td>1</td>\n",
       "      <td>01</td>\n",
       "    </tr>\n",
       "    <tr>\n",
       "      <th>3</th>\n",
       "      <td>3</td>\n",
       "      <td>0x10014c</td>\n",
       "      <td>2019-02-23 00:15:00</td>\n",
       "      <td>6</td>\n",
       "      <td>0</td>\n",
       "      <td>1</td>\n",
       "      <td>1</td>\n",
       "      <td>0</td>\n",
       "      <td>02</td>\n",
       "    </tr>\n",
       "    <tr>\n",
       "      <th>4</th>\n",
       "      <td>4</td>\n",
       "      <td>0x1001d8</td>\n",
       "      <td>2019-06-30 17:50:00</td>\n",
       "      <td>2</td>\n",
       "      <td>3</td>\n",
       "      <td>3</td>\n",
       "      <td>3</td>\n",
       "      <td>0</td>\n",
       "      <td>06</td>\n",
       "    </tr>\n",
       "  </tbody>\n",
       "</table>\n",
       "</div>"
      ],
      "text/plain": [
       "   index id_transacao       horario_pedido  localidade  bebida  pizza  \\\n",
       "0      0     0x10000a  2019-01-29 00:48:00           9       0      1   \n",
       "1      1     0x100058  2019-05-05 00:08:00           6       0      2   \n",
       "2      2     0x1000c8  2019-01-28 19:24:00           9       4      4   \n",
       "3      3     0x10014c  2019-02-23 00:15:00           6       0      1   \n",
       "4      4     0x1001d8  2019-06-30 17:50:00           2       3      3   \n",
       "\n",
       "   sobremesa  salada mes  \n",
       "0          1       0  01  \n",
       "1          2       0  05  \n",
       "2          5       1  01  \n",
       "3          1       0  02  \n",
       "4          3       0  06  "
      ]
     },
     "execution_count": 47,
     "metadata": {},
     "output_type": "execute_result"
    }
   ],
   "source": [
    "# Pronto, agora temos uma coluna de ID com valor único para cada registro\n",
    "df_item_pedidos_idx.head()"
   ]
  },
  {
   "cell_type": "code",
   "execution_count": 48,
   "metadata": {},
   "outputs": [
    {
     "data": {
      "text/html": [
       "<div>\n",
       "<style scoped>\n",
       "    .dataframe tbody tr th:only-of-type {\n",
       "        vertical-align: middle;\n",
       "    }\n",
       "\n",
       "    .dataframe tbody tr th {\n",
       "        vertical-align: top;\n",
       "    }\n",
       "\n",
       "    .dataframe thead th {\n",
       "        text-align: right;\n",
       "    }\n",
       "</style>\n",
       "<table border=\"1\" class=\"dataframe\">\n",
       "  <thead>\n",
       "    <tr style=\"text-align: right;\">\n",
       "      <th></th>\n",
       "      <th>id_transacao</th>\n",
       "      <th>horario_pedido</th>\n",
       "      <th>localidade</th>\n",
       "      <th>bebida</th>\n",
       "      <th>pizza</th>\n",
       "      <th>sobremesa</th>\n",
       "      <th>salada</th>\n",
       "      <th>mes</th>\n",
       "    </tr>\n",
       "  </thead>\n",
       "  <tbody>\n",
       "    <tr>\n",
       "      <th>0</th>\n",
       "      <td>0x10000a</td>\n",
       "      <td>2019-01-29 00:48:00</td>\n",
       "      <td>9</td>\n",
       "      <td>0</td>\n",
       "      <td>1</td>\n",
       "      <td>1</td>\n",
       "      <td>0</td>\n",
       "      <td>01</td>\n",
       "    </tr>\n",
       "    <tr>\n",
       "      <th>1</th>\n",
       "      <td>0x100058</td>\n",
       "      <td>2019-05-05 00:08:00</td>\n",
       "      <td>6</td>\n",
       "      <td>0</td>\n",
       "      <td>2</td>\n",
       "      <td>2</td>\n",
       "      <td>0</td>\n",
       "      <td>05</td>\n",
       "    </tr>\n",
       "    <tr>\n",
       "      <th>2</th>\n",
       "      <td>0x1000c8</td>\n",
       "      <td>2019-01-28 19:24:00</td>\n",
       "      <td>9</td>\n",
       "      <td>4</td>\n",
       "      <td>4</td>\n",
       "      <td>5</td>\n",
       "      <td>1</td>\n",
       "      <td>01</td>\n",
       "    </tr>\n",
       "    <tr>\n",
       "      <th>3</th>\n",
       "      <td>0x10014c</td>\n",
       "      <td>2019-02-23 00:15:00</td>\n",
       "      <td>6</td>\n",
       "      <td>0</td>\n",
       "      <td>1</td>\n",
       "      <td>1</td>\n",
       "      <td>0</td>\n",
       "      <td>02</td>\n",
       "    </tr>\n",
       "    <tr>\n",
       "      <th>4</th>\n",
       "      <td>0x1001d8</td>\n",
       "      <td>2019-06-30 17:50:00</td>\n",
       "      <td>2</td>\n",
       "      <td>3</td>\n",
       "      <td>3</td>\n",
       "      <td>3</td>\n",
       "      <td>0</td>\n",
       "      <td>06</td>\n",
       "    </tr>\n",
       "    <tr>\n",
       "      <th>...</th>\n",
       "      <td>...</td>\n",
       "      <td>...</td>\n",
       "      <td>...</td>\n",
       "      <td>...</td>\n",
       "      <td>...</td>\n",
       "      <td>...</td>\n",
       "      <td>...</td>\n",
       "      <td>...</td>\n",
       "    </tr>\n",
       "    <tr>\n",
       "      <th>99995</th>\n",
       "      <td>0xffe96</td>\n",
       "      <td>2019-01-05 19:28:00</td>\n",
       "      <td>4</td>\n",
       "      <td>4</td>\n",
       "      <td>4</td>\n",
       "      <td>4</td>\n",
       "      <td>0</td>\n",
       "      <td>01</td>\n",
       "    </tr>\n",
       "    <tr>\n",
       "      <th>99996</th>\n",
       "      <td>0xffeed</td>\n",
       "      <td>2019-08-08 00:42:00</td>\n",
       "      <td>2</td>\n",
       "      <td>0</td>\n",
       "      <td>1</td>\n",
       "      <td>1</td>\n",
       "      <td>0</td>\n",
       "      <td>08</td>\n",
       "    </tr>\n",
       "    <tr>\n",
       "      <th>99997</th>\n",
       "      <td>0xfff07</td>\n",
       "      <td>2019-05-04 00:48:00</td>\n",
       "      <td>2</td>\n",
       "      <td>1</td>\n",
       "      <td>1</td>\n",
       "      <td>1</td>\n",
       "      <td>0</td>\n",
       "      <td>05</td>\n",
       "    </tr>\n",
       "    <tr>\n",
       "      <th>99998</th>\n",
       "      <td>0xfff4d</td>\n",
       "      <td>2019-07-18 00:17:00</td>\n",
       "      <td>3</td>\n",
       "      <td>0</td>\n",
       "      <td>2</td>\n",
       "      <td>2</td>\n",
       "      <td>0</td>\n",
       "      <td>07</td>\n",
       "    </tr>\n",
       "    <tr>\n",
       "      <th>99999</th>\n",
       "      <td>0xfffb8</td>\n",
       "      <td>2019-11-07 00:05:00</td>\n",
       "      <td>2</td>\n",
       "      <td>0</td>\n",
       "      <td>1</td>\n",
       "      <td>1</td>\n",
       "      <td>0</td>\n",
       "      <td>11</td>\n",
       "    </tr>\n",
       "  </tbody>\n",
       "</table>\n",
       "<p>100000 rows × 8 columns</p>\n",
       "</div>"
      ],
      "text/plain": [
       "      id_transacao       horario_pedido  localidade  bebida  pizza  sobremesa  \\\n",
       "0         0x10000a  2019-01-29 00:48:00           9       0      1          1   \n",
       "1         0x100058  2019-05-05 00:08:00           6       0      2          2   \n",
       "2         0x1000c8  2019-01-28 19:24:00           9       4      4          5   \n",
       "3         0x10014c  2019-02-23 00:15:00           6       0      1          1   \n",
       "4         0x1001d8  2019-06-30 17:50:00           2       3      3          3   \n",
       "...            ...                  ...         ...     ...    ...        ...   \n",
       "99995      0xffe96  2019-01-05 19:28:00           4       4      4          4   \n",
       "99996      0xffeed  2019-08-08 00:42:00           2       0      1          1   \n",
       "99997      0xfff07  2019-05-04 00:48:00           2       1      1          1   \n",
       "99998      0xfff4d  2019-07-18 00:17:00           3       0      2          2   \n",
       "99999      0xfffb8  2019-11-07 00:05:00           2       0      1          1   \n",
       "\n",
       "       salada mes  \n",
       "0           0  01  \n",
       "1           0  05  \n",
       "2           1  01  \n",
       "3           0  02  \n",
       "4           0  06  \n",
       "...       ...  ..  \n",
       "99995       0  01  \n",
       "99996       0  08  \n",
       "99997       0  05  \n",
       "99998       0  07  \n",
       "99999       0  11  \n",
       "\n",
       "[100000 rows x 8 columns]"
      ]
     },
     "execution_count": 48,
     "metadata": {},
     "output_type": "execute_result"
    }
   ],
   "source": [
    "# Dataset\n",
    "df_item_pedidos"
   ]
  },
  {
   "cell_type": "markdown",
   "metadata": {},
   "source": [
    "### Análise Descritiva"
   ]
  },
  {
   "cell_type": "markdown",
   "metadata": {},
   "source": [
    "### Distplot dos Atributos Usados Para Segmentação"
   ]
  },
  {
   "cell_type": "code",
   "execution_count": 49,
   "metadata": {},
   "outputs": [
    {
     "data": {
      "image/png": "[encoded data removed]",
      "text/plain": [
       "<Figure size 1080x432 with 5 Axes>"
      ]
     },
     "metadata": {
      "needs_background": "light"
     },
     "output_type": "display_data"
    }
   ],
   "source": [
    "# Plot\n",
    "\n",
    "# Tamanho da figura\n",
    "plt.figure(1 , figsize = (15 , 6))\n",
    "\n",
    "# Inicializa o contador\n",
    "n = 0 \n",
    "\n",
    "# Loop pelas colunas\n",
    "for x in ['pizza' , 'sobremesa' , 'salada', 'bebida', 'localidade']:\n",
    "    n += 1\n",
    "    plt.subplot(1 , 5 , n)\n",
    "    plt.subplots_adjust(hspace = 0.5 , wspace = 0.5)\n",
    "    sns.distplot(df_item_pedidos[x] , bins = 20)\n",
    "    plt.title('Distplot de {}'.format(x))\n",
    "plt.show()"
   ]
  },
  {
   "cell_type": "markdown",
   "metadata": {},
   "source": [
    "### Gráfico de Total de Pedidos Por Localidade"
   ]
  },
  {
   "cell_type": "code",
   "execution_count": 50,
   "metadata": {},
   "outputs": [
    {
     "data": {
      "image/png": "[encoded data removed]",
      "text/plain": [
       "<Figure size 1080x360 with 1 Axes>"
      ]
     },
     "metadata": {
      "needs_background": "light"
     },
     "output_type": "display_data"
    }
   ],
   "source": [
    "# Plot\n",
    "plt.figure(1 , figsize = (15 , 5))\n",
    "sns.countplot(y = 'localidade' , data = df_item_pedidos)\n",
    "plt.show()"
   ]
  },
  {
   "cell_type": "markdown",
   "metadata": {},
   "source": [
    "### Regplot dos Atributos Usados Para Segmentação"
   ]
  },
  {
   "cell_type": "code",
   "execution_count": 51,
   "metadata": {},
   "outputs": [
    {
     "data": {
      "image/png": "[encoded data removed]",
      "text/plain": [
       "<Figure size 1080x504 with 16 Axes>"
      ]
     },
     "metadata": {
      "needs_background": "light"
     },
     "output_type": "display_data"
    }
   ],
   "source": [
    "# Relação Entre os Atributos\n",
    "\n",
    "# Tamanho da figura\n",
    "plt.figure(1 , figsize = (15 , 7))\n",
    "\n",
    "# Inicializa o contador\n",
    "n = 0 \n",
    "\n",
    "# Loop pelos atributos\n",
    "for x in ['pizza' , 'sobremesa' , 'salada', 'bebida']:\n",
    "    for y in ['pizza' , 'sobremesa' , 'salada', 'bebida']:\n",
    "        n += 1\n",
    "        plt.subplot(4 , 4 , n)\n",
    "        plt.subplots_adjust(hspace = 0.5 , wspace = 0.5)\n",
    "        sns.regplot(x = x , y = y , data = df_item_pedidos)\n",
    "        plt.ylabel(y)\n",
    "plt.show()"
   ]
  },
  {
   "cell_type": "markdown",
   "metadata": {},
   "source": [
    "### Definindo as Variáveis Para Segmentação"
   ]
  },
  {
   "cell_type": "markdown",
   "metadata": {},
   "source": [
    "Vamos remover id_transacao, horario_pedido, localidade e mes para nossas primeiras atividades de clusterização."
   ]
  },
  {
   "cell_type": "code",
   "execution_count": 52,
   "metadata": {},
   "outputs": [
    {
     "data": {
      "text/html": [
       "<div>\n",
       "<style scoped>\n",
       "    .dataframe tbody tr th:only-of-type {\n",
       "        vertical-align: middle;\n",
       "    }\n",
       "\n",
       "    .dataframe tbody tr th {\n",
       "        vertical-align: top;\n",
       "    }\n",
       "\n",
       "    .dataframe thead th {\n",
       "        text-align: right;\n",
       "    }\n",
       "</style>\n",
       "<table border=\"1\" class=\"dataframe\">\n",
       "  <thead>\n",
       "    <tr style=\"text-align: right;\">\n",
       "      <th></th>\n",
       "      <th>index</th>\n",
       "      <th>bebida</th>\n",
       "      <th>pizza</th>\n",
       "      <th>sobremesa</th>\n",
       "      <th>salada</th>\n",
       "    </tr>\n",
       "  </thead>\n",
       "  <tbody>\n",
       "    <tr>\n",
       "      <th>0</th>\n",
       "      <td>0</td>\n",
       "      <td>0</td>\n",
       "      <td>1</td>\n",
       "      <td>1</td>\n",
       "      <td>0</td>\n",
       "    </tr>\n",
       "    <tr>\n",
       "      <th>1</th>\n",
       "      <td>1</td>\n",
       "      <td>0</td>\n",
       "      <td>2</td>\n",
       "      <td>2</td>\n",
       "      <td>0</td>\n",
       "    </tr>\n",
       "    <tr>\n",
       "      <th>2</th>\n",
       "      <td>2</td>\n",
       "      <td>4</td>\n",
       "      <td>4</td>\n",
       "      <td>5</td>\n",
       "      <td>1</td>\n",
       "    </tr>\n",
       "    <tr>\n",
       "      <th>3</th>\n",
       "      <td>3</td>\n",
       "      <td>0</td>\n",
       "      <td>1</td>\n",
       "      <td>1</td>\n",
       "      <td>0</td>\n",
       "    </tr>\n",
       "    <tr>\n",
       "      <th>4</th>\n",
       "      <td>4</td>\n",
       "      <td>3</td>\n",
       "      <td>3</td>\n",
       "      <td>3</td>\n",
       "      <td>0</td>\n",
       "    </tr>\n",
       "    <tr>\n",
       "      <th>...</th>\n",
       "      <td>...</td>\n",
       "      <td>...</td>\n",
       "      <td>...</td>\n",
       "      <td>...</td>\n",
       "      <td>...</td>\n",
       "    </tr>\n",
       "    <tr>\n",
       "      <th>99995</th>\n",
       "      <td>99995</td>\n",
       "      <td>4</td>\n",
       "      <td>4</td>\n",
       "      <td>4</td>\n",
       "      <td>0</td>\n",
       "    </tr>\n",
       "    <tr>\n",
       "      <th>99996</th>\n",
       "      <td>99996</td>\n",
       "      <td>0</td>\n",
       "      <td>1</td>\n",
       "      <td>1</td>\n",
       "      <td>0</td>\n",
       "    </tr>\n",
       "    <tr>\n",
       "      <th>99997</th>\n",
       "      <td>99997</td>\n",
       "      <td>1</td>\n",
       "      <td>1</td>\n",
       "      <td>1</td>\n",
       "      <td>0</td>\n",
       "    </tr>\n",
       "    <tr>\n",
       "      <th>99998</th>\n",
       "      <td>99998</td>\n",
       "      <td>0</td>\n",
       "      <td>2</td>\n",
       "      <td>2</td>\n",
       "      <td>0</td>\n",
       "    </tr>\n",
       "    <tr>\n",
       "      <th>99999</th>\n",
       "      <td>99999</td>\n",
       "      <td>0</td>\n",
       "      <td>1</td>\n",
       "      <td>1</td>\n",
       "      <td>0</td>\n",
       "    </tr>\n",
       "  </tbody>\n",
       "</table>\n",
       "<p>100000 rows × 5 columns</p>\n",
       "</div>"
      ],
      "text/plain": [
       "       index  bebida  pizza  sobremesa  salada\n",
       "0          0       0      1          1       0\n",
       "1          1       0      2          2       0\n",
       "2          2       4      4          5       1\n",
       "3          3       0      1          1       0\n",
       "4          4       3      3          3       0\n",
       "...      ...     ...    ...        ...     ...\n",
       "99995  99995       4      4          4       0\n",
       "99996  99996       0      1          1       0\n",
       "99997  99997       1      1          1       0\n",
       "99998  99998       0      2          2       0\n",
       "99999  99999       0      1          1       0\n",
       "\n",
       "[100000 rows x 5 columns]"
      ]
     },
     "execution_count": 52,
     "metadata": {},
     "output_type": "execute_result"
    }
   ],
   "source": [
    "# Filtrando o dataframe por colunas \n",
    "df_item_pedidos_idx[['index', 'bebida', 'pizza', 'sobremesa', 'salada']]"
   ]
  },
  {
   "cell_type": "code",
   "execution_count": 53,
   "metadata": {},
   "outputs": [],
   "source": [
    "# Vamos gerar um novo dataframe com o slice anterior\n",
    "df = df_item_pedidos_idx[['index', 'bebida', 'pizza', 'sobremesa', 'salada']]"
   ]
  },
  {
   "cell_type": "code",
   "execution_count": 54,
   "metadata": {
    "scrolled": true
   },
   "outputs": [
    {
     "data": {
      "text/html": [
       "<div>\n",
       "<style scoped>\n",
       "    .dataframe tbody tr th:only-of-type {\n",
       "        vertical-align: middle;\n",
       "    }\n",
       "\n",
       "    .dataframe tbody tr th {\n",
       "        vertical-align: top;\n",
       "    }\n",
       "\n",
       "    .dataframe thead th {\n",
       "        text-align: right;\n",
       "    }\n",
       "</style>\n",
       "<table border=\"1\" class=\"dataframe\">\n",
       "  <thead>\n",
       "    <tr style=\"text-align: right;\">\n",
       "      <th></th>\n",
       "      <th>index</th>\n",
       "      <th>bebida</th>\n",
       "      <th>pizza</th>\n",
       "      <th>sobremesa</th>\n",
       "      <th>salada</th>\n",
       "    </tr>\n",
       "  </thead>\n",
       "  <tbody>\n",
       "    <tr>\n",
       "      <th>0</th>\n",
       "      <td>0</td>\n",
       "      <td>0</td>\n",
       "      <td>1</td>\n",
       "      <td>1</td>\n",
       "      <td>0</td>\n",
       "    </tr>\n",
       "    <tr>\n",
       "      <th>1</th>\n",
       "      <td>1</td>\n",
       "      <td>0</td>\n",
       "      <td>2</td>\n",
       "      <td>2</td>\n",
       "      <td>0</td>\n",
       "    </tr>\n",
       "    <tr>\n",
       "      <th>2</th>\n",
       "      <td>2</td>\n",
       "      <td>4</td>\n",
       "      <td>4</td>\n",
       "      <td>5</td>\n",
       "      <td>1</td>\n",
       "    </tr>\n",
       "    <tr>\n",
       "      <th>3</th>\n",
       "      <td>3</td>\n",
       "      <td>0</td>\n",
       "      <td>1</td>\n",
       "      <td>1</td>\n",
       "      <td>0</td>\n",
       "    </tr>\n",
       "    <tr>\n",
       "      <th>4</th>\n",
       "      <td>4</td>\n",
       "      <td>3</td>\n",
       "      <td>3</td>\n",
       "      <td>3</td>\n",
       "      <td>0</td>\n",
       "    </tr>\n",
       "  </tbody>\n",
       "</table>\n",
       "</div>"
      ],
      "text/plain": [
       "   index  bebida  pizza  sobremesa  salada\n",
       "0      0       0      1          1       0\n",
       "1      1       0      2          2       0\n",
       "2      2       4      4          5       1\n",
       "3      3       0      1          1       0\n",
       "4      4       3      3          3       0"
      ]
     },
     "execution_count": 54,
     "metadata": {},
     "output_type": "execute_result"
    }
   ],
   "source": [
    "# Dataset\n",
    "df.head()"
   ]
  },
  {
   "cell_type": "markdown",
   "metadata": {},
   "source": [
    "### Segmentação 1\n",
    "\n",
    "Vamos realizar nossa primeira segmentação usando 2 variáveis.\n",
    "\n",
    "#### Segmentação 1 - Definindo o Número de Atributos\n",
    "\n",
    "\n",
    "Usando 2 Variáveis (Pizza e Sobremesa)."
   ]
  },
  {
   "cell_type": "code",
   "execution_count": 55,
   "metadata": {},
   "outputs": [],
   "source": [
    "# Usaremos duas variáveis\n",
    "X1 = df[['pizza' , 'sobremesa']].iloc[: , :].values"
   ]
  },
  {
   "cell_type": "code",
   "execution_count": 56,
   "metadata": {},
   "outputs": [],
   "source": [
    "# Lista do WCSS\n",
    "wcss_X1 = []"
   ]
  },
  {
   "cell_type": "markdown",
   "metadata": {},
   "source": [
    "#### Segmentação 1 - Encontrando o Valor Ideal de Clusters\n",
    "\n",
    "Vamos testar diferentes valores de K (valores de cluster) entre 2 e 10.\n",
    "\n",
    "Para a inicialização dos clusters, usamos o algoritmo k-means++ que oferece convergência mais rápida para o resultado final.\n",
    "\n",
    "https://scikit-learn.org/stable/modules/generated/sklearn.cluster.KMeans.html"
   ]
  },
  {
   "cell_type": "code",
   "execution_count": 57,
   "metadata": {},
   "outputs": [],
   "source": [
    "# Loop para testar os valores de K\n",
    "for n in range(2, 11):\n",
    "    modelo = (KMeans(n_clusters = n,\n",
    "                     init = 'k-means++', \n",
    "                     n_init = 10,\n",
    "                     max_iter = 300, \n",
    "                     tol = 0.0001,  \n",
    "                     random_state = 111, \n",
    "                     algorithm = 'elkan'))\n",
    "    modelo.fit(X1)\n",
    "    wcss_X1.append(modelo.inertia_)"
   ]
  },
  {
   "cell_type": "code",
   "execution_count": 58,
   "metadata": {},
   "outputs": [
    {
     "data": {
      "image/png": "[encoded data removed]",
      "text/plain": [
       "<Figure size 1080x432 with 1 Axes>"
      ]
     },
     "metadata": {
      "needs_background": "light"
     },
     "output_type": "display_data"
    }
   ],
   "source": [
    "# Plot\n",
    "plt.figure(1 , figsize = (15 ,6))\n",
    "plt.plot(np.arange(2 , 11) , wcss_X1 , 'o')\n",
    "plt.plot(np.arange(2 , 11) , wcss_X1 , '-' , alpha = 0.5)\n",
    "plt.xlabel('Número de Clusters') , plt.ylabel('WCSS')\n",
    "plt.show()"
   ]
  },
  {
   "cell_type": "markdown",
   "metadata": {},
   "source": [
    "Escolhemos o valor ideal de clusters e criamos o modelo final para a Segmentação 1. Observe no gráfico acima que não há certo ou errado. Poderíamos trabalhar com qualquer valor entre 2 e 10 (não faz sentido criar apenas 1 cluster).\n",
    "\n",
    "O gráfico acima é chamado de Curva de Elbow e normalmente usamos o valor com o menor WCSS. Mas isso deve ser alinhado com as necessidade de negócio. Para esse exemplo, não faria sentido usar 10 clusters. Vamos começar com 2 clusters e avaliar e interpretar os resultados."
   ]
  },
  {
   "cell_type": "markdown",
   "metadata": {},
   "source": [
    "#### Segmentação 1 - Construindo e Treinando o Modelo"
   ]
  },
  {
   "cell_type": "code",
   "execution_count": 59,
   "metadata": {},
   "outputs": [],
   "source": [
    "# Criação do modelo\n",
    "modelo_seg1 = KMeans(n_clusters = 2, \n",
    "                     init = 'k-means++', \n",
    "                     n_init = 10, \n",
    "                     max_iter = 300, \n",
    "                     tol = 0.0001,  \n",
    "                     random_state = 111, \n",
    "                     algorithm = 'elkan')"
   ]
  },
  {
   "cell_type": "code",
   "execution_count": 60,
   "metadata": {},
   "outputs": [
    {
     "data": {
      "text/plain": [
       "KMeans(algorithm='elkan', n_clusters=2, random_state=111)"
      ]
     },
     "execution_count": 60,
     "metadata": {},
     "output_type": "execute_result"
    }
   ],
   "source": [
    "# Treinamento do modelo\n",
    "modelo_seg1.fit(X1)"
   ]
  },
  {
   "cell_type": "code",
   "execution_count": 61,
   "metadata": {},
   "outputs": [
    {
     "data": {
      "text/plain": [
       "array([0, 0, 1, ..., 0, 0, 0], dtype=int32)"
      ]
     },
     "execution_count": 61,
     "metadata": {},
     "output_type": "execute_result"
    }
   ],
   "source": [
    "# Extração dos labels\n",
    "labels1 = modelo_seg1.labels_\n",
    "labels1"
   ]
  },
  {
   "cell_type": "code",
   "execution_count": 62,
   "metadata": {},
   "outputs": [
    {
     "data": {
      "text/plain": [
       "array([[0.881644  , 1.82183485],\n",
       "       [3.79958153, 4.05580631]])"
      ]
     },
     "execution_count": 62,
     "metadata": {},
     "output_type": "execute_result"
    }
   ],
   "source": [
    "# Extração dos centróides\n",
    "centroids1 = modelo_seg1.cluster_centers_\n",
    "centroids1"
   ]
  },
  {
   "cell_type": "markdown",
   "metadata": {},
   "source": [
    "#### Segmentação 1 - Visualização e Interpretação dos Segmentos"
   ]
  },
  {
   "cell_type": "code",
   "execution_count": 63,
   "metadata": {},
   "outputs": [
    {
     "data": {
      "image/png": "[encoded data removed]",
      "text/plain": [
       "<Figure size 1080x504 with 1 Axes>"
      ]
     },
     "metadata": {
      "needs_background": "light"
     },
     "output_type": "display_data"
    }
   ],
   "source": [
    "# Plot\n",
    "\n",
    "# Parâmetros do Meshgrid\n",
    "h = 0.02\n",
    "x_min, x_max = X1[:, 0].min() - 1, X1[:, 0].max() + 1\n",
    "y_min, y_max = X1[:, 1].min() - 1, X1[:, 1].max() + 1\n",
    "xx, yy = np.meshgrid(np.arange(x_min, x_max, h), np.arange(y_min, y_max, h))\n",
    "Z = modelo_seg1.predict(np.c_[xx.ravel(), yy.ravel()]) \n",
    "plt.figure(1 , figsize = (15, 7) )\n",
    "plt.clf()\n",
    "Z = Z.reshape(xx.shape)\n",
    "\n",
    "# Plot da imagem\n",
    "plt.imshow(Z, \n",
    "           interpolation = 'nearest', \n",
    "           extent = (xx.min(), xx.max(), yy.min(), yy.max()),\n",
    "           cmap = plt.cm.Set2, \n",
    "           aspect = 'auto', \n",
    "           origin = 'lower')\n",
    "\n",
    "# Plot dos pontos de dados\n",
    "plt.scatter( x = 'pizza', y = 'sobremesa', data = df, c = labels1, s = 200 )\n",
    "plt.scatter(x = centroids1[: , 0], y =  centroids1[: , 1], s = 300, c = 'red', alpha = 0.5)\n",
    "plt.xlabel('Pizza')\n",
    "plt.ylabel('Sobremesa')\n",
    "plt.show()"
   ]
  },
  {
   "cell_type": "markdown",
   "metadata": {},
   "source": [
    "**Interpretação**: \n",
    "\n",
    "- O ponto vermelho é o centróide de cada cluster (segmento).\n",
    "\n",
    "\n",
    "- No cluster 1 (área em verde) temos os clientes que pediram 0, 1 ou 2 Pizzas. Em todos os casos houve pedido de Sobremesa.\n",
    "\n",
    "\n",
    "- No cluster 2 (área em cinza) estão clientes que pediram 2, 3, 4 ou 5 Pizzas. Perceba que à medida que o pedido tem maior número de Pizzas, também aumenta o número de Sobremesas."
   ]
  },
  {
   "cell_type": "markdown",
   "metadata": {},
   "source": [
    "**Análise**:\n",
    "\n",
    "- Cluster 1 - Clientes que pedem menos Pizzas. Todos pedem sobremesa.\n",
    "\n",
    "- Cluster 2 - Clientes que pedem mais Pizzas. Todos pedem sobremesa em volume maior.\n",
    "\n",
    "Como estratégia de Marketing, poderíamos oferecer ao cliente uma sobremesa grátis no caso de comprar mais uma Pizza de maior valor. Com base na Segmentação provavelmente essa estratégia teria sucesso."
   ]
  },
  {
   "cell_type": "markdown",
   "metadata": {},
   "source": [
    "### Segmentação 2\n",
    "\n",
    "Segmentação 2 - Variáveis Pizza e Salada"
   ]
  },
  {
   "cell_type": "code",
   "execution_count": 64,
   "metadata": {},
   "outputs": [
    {
     "data": {
      "image/png": "[encoded data removed]",
      "text/plain": [
       "<Figure size 1080x432 with 1 Axes>"
      ]
     },
     "metadata": {
      "needs_background": "light"
     },
     "output_type": "display_data"
    }
   ],
   "source": [
    "# Usaremos duas variáveis\n",
    "X1 = df[['pizza' , 'salada']].iloc[: , :].values\n",
    "\n",
    "# Lista de valores de Inertia (Inertia e WCSS são a mesma coisa)\n",
    "inertia = []\n",
    "\n",
    "# Loop para testar os valores de K\n",
    "for n in range(2 , 11):\n",
    "    modelo = (KMeans(n_clusters = n,\n",
    "                     init = 'k-means++', \n",
    "                     n_init = 10,\n",
    "                     max_iter = 300, \n",
    "                     tol = 0.0001,  \n",
    "                     random_state = 111, \n",
    "                     algorithm = 'elkan'))\n",
    "    modelo.fit(X1)\n",
    "    inertia.append(modelo.inertia_)\n",
    "\n",
    "# Plot\n",
    "plt.figure(1 , figsize = (15 ,6))\n",
    "plt.plot(np.arange(2 , 11) , inertia , 'o')\n",
    "plt.plot(np.arange(2 , 11) , inertia , '-' , alpha = 0.5)\n",
    "plt.xlabel('Número de Clusters') , plt.ylabel('Inertia')\n",
    "plt.show()"
   ]
  },
  {
   "cell_type": "markdown",
   "metadata": {},
   "source": [
    "Vamos criar o modelo com 3 clusters."
   ]
  },
  {
   "cell_type": "code",
   "execution_count": 65,
   "metadata": {},
   "outputs": [],
   "source": [
    "# Criação do modelo com 3 clusters\n",
    "modelo_seg2 = (KMeans(n_clusters = 3,\n",
    "                      init = 'k-means++', \n",
    "                      n_init = 10 ,\n",
    "                      max_iter = 300, \n",
    "                      tol = 0.0001,  \n",
    "                      random_state = 111  , \n",
    "                      algorithm = 'elkan') )\n",
    "\n",
    "# Treinamento do modelo\n",
    "modelo_seg2.fit(X1)\n",
    "\n",
    "# Labels\n",
    "labels2 = modelo_seg2.labels_\n",
    "\n",
    "# Centróides\n",
    "centroids2 = modelo_seg2.cluster_centers_"
   ]
  },
  {
   "cell_type": "code",
   "execution_count": 66,
   "metadata": {},
   "outputs": [
    {
     "data": {
      "image/png": "[encoded data removed]",
      "text/plain": [
       "<Figure size 1080x504 with 1 Axes>"
      ]
     },
     "metadata": {
      "needs_background": "light"
     },
     "output_type": "display_data"
    }
   ],
   "source": [
    "# Plot\n",
    "\n",
    "# Parâmetros do Meshgrid\n",
    "h = 0.02\n",
    "x_min, x_max = X1[:, 0].min() - 1, X1[:, 0].max() + 1\n",
    "y_min, y_max = X1[:, 1].min() - 1, X1[:, 1].max() + 1\n",
    "xx, yy = np.meshgrid(np.arange(x_min, x_max, h), np.arange(y_min, y_max, h))\n",
    "Z = modelo_seg2.predict(np.c_[xx.ravel(), yy.ravel()]) \n",
    "plt.figure(1 , figsize = (15, 7) )\n",
    "plt.clf()\n",
    "Z = Z.reshape(xx.shape)\n",
    "\n",
    "# Plot da imagem\n",
    "plt.imshow(Z, \n",
    "           interpolation = 'nearest', \n",
    "           extent = (xx.min(), xx.max(), yy.min(), yy.max()),\n",
    "           cmap = plt.cm.Dark2, \n",
    "           aspect = 'auto', \n",
    "           origin = 'lower')\n",
    "\n",
    "# Plot dos pontos de dados\n",
    "plt.scatter( x = 'pizza', y = 'salada', data = df, c = labels2, s = 200 )\n",
    "plt.scatter(x = centroids2[: , 0], y =  centroids2[: , 1], s = 300, c = 'red', alpha = 0.5)\n",
    "plt.xlabel('Pizza')\n",
    "plt.ylabel('Salada')\n",
    "plt.show()"
   ]
  },
  {
   "cell_type": "markdown",
   "metadata": {},
   "source": [
    "**Interpretação**: \n",
    "\n",
    "- O ponto vermelho é o centróide de cada cluster (segmento).\n",
    "\n",
    "\n",
    "- No cluster 1 (área em cinza) temos os clientes que pediram menos Pizzas e mais Saladas.\n",
    "\n",
    "\n",
    "- No cluster 2 (área em verde escuro) temos os clientes que pediram poucas Pizzas e poucas Saladas.\n",
    "\n",
    "\n",
    "- No cluster 3 (área em verde claro) estão clientes que pediram mais Pizzas e menos Saladas."
   ]
  },
  {
   "cell_type": "markdown",
   "metadata": {},
   "source": [
    "**Análise**:\n",
    "\n",
    "Os clusters 1 e 3 são de clientes com comportamentos opostos. A equipe de Marketing poderia concentrar os esforços nos clientes do cluster 2, pois são clientes que compram Pizzas e Saladas e, portanto, tendem a consumir mais itens variados evitando manter os estoques cheios de um único item. \n",
    "\n",
    "Ou então, concentrar os esforços nos clientes que consomem produtos que geram mais lucro. Teríamos que verificar qual item, Pizza ou Salada, é mais rentável."
   ]
  },
  {
   "cell_type": "markdown",
   "metadata": {},
   "source": [
    "### Segmentação 3\n",
    "\n",
    "Segmentação 3 - Variáveis Pizza e Localidade"
   ]
  },
  {
   "cell_type": "code",
   "execution_count": 67,
   "metadata": {},
   "outputs": [
    {
     "data": {
      "text/html": [
       "<div>\n",
       "<style scoped>\n",
       "    .dataframe tbody tr th:only-of-type {\n",
       "        vertical-align: middle;\n",
       "    }\n",
       "\n",
       "    .dataframe tbody tr th {\n",
       "        vertical-align: top;\n",
       "    }\n",
       "\n",
       "    .dataframe thead th {\n",
       "        text-align: right;\n",
       "    }\n",
       "</style>\n",
       "<table border=\"1\" class=\"dataframe\">\n",
       "  <thead>\n",
       "    <tr style=\"text-align: right;\">\n",
       "      <th></th>\n",
       "      <th>index</th>\n",
       "      <th>bebida</th>\n",
       "      <th>pizza</th>\n",
       "      <th>sobremesa</th>\n",
       "      <th>salada</th>\n",
       "      <th>localidade</th>\n",
       "    </tr>\n",
       "  </thead>\n",
       "  <tbody>\n",
       "    <tr>\n",
       "      <th>0</th>\n",
       "      <td>0</td>\n",
       "      <td>0</td>\n",
       "      <td>1</td>\n",
       "      <td>1</td>\n",
       "      <td>0</td>\n",
       "      <td>9</td>\n",
       "    </tr>\n",
       "    <tr>\n",
       "      <th>1</th>\n",
       "      <td>1</td>\n",
       "      <td>0</td>\n",
       "      <td>2</td>\n",
       "      <td>2</td>\n",
       "      <td>0</td>\n",
       "      <td>6</td>\n",
       "    </tr>\n",
       "    <tr>\n",
       "      <th>2</th>\n",
       "      <td>2</td>\n",
       "      <td>4</td>\n",
       "      <td>4</td>\n",
       "      <td>5</td>\n",
       "      <td>1</td>\n",
       "      <td>9</td>\n",
       "    </tr>\n",
       "    <tr>\n",
       "      <th>3</th>\n",
       "      <td>3</td>\n",
       "      <td>0</td>\n",
       "      <td>1</td>\n",
       "      <td>1</td>\n",
       "      <td>0</td>\n",
       "      <td>6</td>\n",
       "    </tr>\n",
       "    <tr>\n",
       "      <th>4</th>\n",
       "      <td>4</td>\n",
       "      <td>3</td>\n",
       "      <td>3</td>\n",
       "      <td>3</td>\n",
       "      <td>0</td>\n",
       "      <td>2</td>\n",
       "    </tr>\n",
       "    <tr>\n",
       "      <th>...</th>\n",
       "      <td>...</td>\n",
       "      <td>...</td>\n",
       "      <td>...</td>\n",
       "      <td>...</td>\n",
       "      <td>...</td>\n",
       "      <td>...</td>\n",
       "    </tr>\n",
       "    <tr>\n",
       "      <th>99995</th>\n",
       "      <td>99995</td>\n",
       "      <td>4</td>\n",
       "      <td>4</td>\n",
       "      <td>4</td>\n",
       "      <td>0</td>\n",
       "      <td>4</td>\n",
       "    </tr>\n",
       "    <tr>\n",
       "      <th>99996</th>\n",
       "      <td>99996</td>\n",
       "      <td>0</td>\n",
       "      <td>1</td>\n",
       "      <td>1</td>\n",
       "      <td>0</td>\n",
       "      <td>2</td>\n",
       "    </tr>\n",
       "    <tr>\n",
       "      <th>99997</th>\n",
       "      <td>99997</td>\n",
       "      <td>1</td>\n",
       "      <td>1</td>\n",
       "      <td>1</td>\n",
       "      <td>0</td>\n",
       "      <td>2</td>\n",
       "    </tr>\n",
       "    <tr>\n",
       "      <th>99998</th>\n",
       "      <td>99998</td>\n",
       "      <td>0</td>\n",
       "      <td>2</td>\n",
       "      <td>2</td>\n",
       "      <td>0</td>\n",
       "      <td>3</td>\n",
       "    </tr>\n",
       "    <tr>\n",
       "      <th>99999</th>\n",
       "      <td>99999</td>\n",
       "      <td>0</td>\n",
       "      <td>1</td>\n",
       "      <td>1</td>\n",
       "      <td>0</td>\n",
       "      <td>2</td>\n",
       "    </tr>\n",
       "  </tbody>\n",
       "</table>\n",
       "<p>100000 rows × 6 columns</p>\n",
       "</div>"
      ],
      "text/plain": [
       "       index  bebida  pizza  sobremesa  salada  localidade\n",
       "0          0       0      1          1       0           9\n",
       "1          1       0      2          2       0           6\n",
       "2          2       4      4          5       1           9\n",
       "3          3       0      1          1       0           6\n",
       "4          4       3      3          3       0           2\n",
       "...      ...     ...    ...        ...     ...         ...\n",
       "99995  99995       4      4          4       0           4\n",
       "99996  99996       0      1          1       0           2\n",
       "99997  99997       1      1          1       0           2\n",
       "99998  99998       0      2          2       0           3\n",
       "99999  99999       0      1          1       0           2\n",
       "\n",
       "[100000 rows x 6 columns]"
      ]
     },
     "execution_count": 67,
     "metadata": {},
     "output_type": "execute_result"
    }
   ],
   "source": [
    "# Filtrando o dataframe por colunas \n",
    "df_item_pedidos_idx[['index', 'bebida', 'pizza', 'sobremesa', 'salada', 'localidade']]"
   ]
  },
  {
   "cell_type": "code",
   "execution_count": 68,
   "metadata": {},
   "outputs": [],
   "source": [
    "# Criando um novo dataframe\n",
    "df2 = df_item_pedidos_idx[['index', 'bebida', 'pizza', 'sobremesa', 'salada', 'localidade']]"
   ]
  },
  {
   "cell_type": "code",
   "execution_count": 69,
   "metadata": {},
   "outputs": [
    {
     "data": {
      "text/html": [
       "<div>\n",
       "<style scoped>\n",
       "    .dataframe tbody tr th:only-of-type {\n",
       "        vertical-align: middle;\n",
       "    }\n",
       "\n",
       "    .dataframe tbody tr th {\n",
       "        vertical-align: top;\n",
       "    }\n",
       "\n",
       "    .dataframe thead th {\n",
       "        text-align: right;\n",
       "    }\n",
       "</style>\n",
       "<table border=\"1\" class=\"dataframe\">\n",
       "  <thead>\n",
       "    <tr style=\"text-align: right;\">\n",
       "      <th></th>\n",
       "      <th>index</th>\n",
       "      <th>bebida</th>\n",
       "      <th>pizza</th>\n",
       "      <th>sobremesa</th>\n",
       "      <th>salada</th>\n",
       "      <th>localidade</th>\n",
       "    </tr>\n",
       "  </thead>\n",
       "  <tbody>\n",
       "    <tr>\n",
       "      <th>count</th>\n",
       "      <td>100000.000000</td>\n",
       "      <td>100000.000000</td>\n",
       "      <td>100000.000000</td>\n",
       "      <td>100000.000000</td>\n",
       "      <td>100000.000000</td>\n",
       "      <td>100000.000000</td>\n",
       "    </tr>\n",
       "    <tr>\n",
       "      <th>mean</th>\n",
       "      <td>49999.500000</td>\n",
       "      <td>1.239590</td>\n",
       "      <td>1.857840</td>\n",
       "      <td>2.569210</td>\n",
       "      <td>0.711370</td>\n",
       "      <td>5.004700</td>\n",
       "    </tr>\n",
       "    <tr>\n",
       "      <th>std</th>\n",
       "      <td>28867.657797</td>\n",
       "      <td>1.627886</td>\n",
       "      <td>1.588589</td>\n",
       "      <td>1.332084</td>\n",
       "      <td>1.086524</td>\n",
       "      <td>2.544811</td>\n",
       "    </tr>\n",
       "    <tr>\n",
       "      <th>min</th>\n",
       "      <td>0.000000</td>\n",
       "      <td>0.000000</td>\n",
       "      <td>0.000000</td>\n",
       "      <td>1.000000</td>\n",
       "      <td>0.000000</td>\n",
       "      <td>1.000000</td>\n",
       "    </tr>\n",
       "    <tr>\n",
       "      <th>25%</th>\n",
       "      <td>24999.750000</td>\n",
       "      <td>0.000000</td>\n",
       "      <td>1.000000</td>\n",
       "      <td>1.000000</td>\n",
       "      <td>0.000000</td>\n",
       "      <td>3.000000</td>\n",
       "    </tr>\n",
       "    <tr>\n",
       "      <th>50%</th>\n",
       "      <td>49999.500000</td>\n",
       "      <td>0.000000</td>\n",
       "      <td>1.000000</td>\n",
       "      <td>2.000000</td>\n",
       "      <td>0.000000</td>\n",
       "      <td>5.000000</td>\n",
       "    </tr>\n",
       "    <tr>\n",
       "      <th>75%</th>\n",
       "      <td>74999.250000</td>\n",
       "      <td>3.000000</td>\n",
       "      <td>3.000000</td>\n",
       "      <td>4.000000</td>\n",
       "      <td>1.000000</td>\n",
       "      <td>7.000000</td>\n",
       "    </tr>\n",
       "    <tr>\n",
       "      <th>max</th>\n",
       "      <td>99999.000000</td>\n",
       "      <td>5.000000</td>\n",
       "      <td>5.000000</td>\n",
       "      <td>5.000000</td>\n",
       "      <td>5.000000</td>\n",
       "      <td>9.000000</td>\n",
       "    </tr>\n",
       "  </tbody>\n",
       "</table>\n",
       "</div>"
      ],
      "text/plain": [
       "               index         bebida          pizza      sobremesa  \\\n",
       "count  100000.000000  100000.000000  100000.000000  100000.000000   \n",
       "mean    49999.500000       1.239590       1.857840       2.569210   \n",
       "std     28867.657797       1.627886       1.588589       1.332084   \n",
       "min         0.000000       0.000000       0.000000       1.000000   \n",
       "25%     24999.750000       0.000000       1.000000       1.000000   \n",
       "50%     49999.500000       0.000000       1.000000       2.000000   \n",
       "75%     74999.250000       3.000000       3.000000       4.000000   \n",
       "max     99999.000000       5.000000       5.000000       5.000000   \n",
       "\n",
       "              salada     localidade  \n",
       "count  100000.000000  100000.000000  \n",
       "mean        0.711370       5.004700  \n",
       "std         1.086524       2.544811  \n",
       "min         0.000000       1.000000  \n",
       "25%         0.000000       3.000000  \n",
       "50%         0.000000       5.000000  \n",
       "75%         1.000000       7.000000  \n",
       "max         5.000000       9.000000  "
      ]
     },
     "execution_count": 69,
     "metadata": {},
     "output_type": "execute_result"
    }
   ],
   "source": [
    "# Resumo do dataset\n",
    "df2.describe()"
   ]
  },
  {
   "cell_type": "code",
   "execution_count": 70,
   "metadata": {},
   "outputs": [
    {
     "data": {
      "image/png": "[encoded data removed]",
      "text/plain": [
       "<Figure size 1080x432 with 1 Axes>"
      ]
     },
     "metadata": {
      "needs_background": "light"
     },
     "output_type": "display_data"
    }
   ],
   "source": [
    "# Usaremos duas variáveis\n",
    "X1 = df2[['pizza' , 'localidade']].iloc[: , :].values\n",
    "\n",
    "# Lista de valores de Inertia (Inertia e WCSS são a mesma coisa)\n",
    "inertia = []\n",
    "\n",
    "# Loop para testar os valores de K\n",
    "for n in range(2 , 11):\n",
    "    modelo = (KMeans(n_clusters = n,\n",
    "                     init = 'k-means++', \n",
    "                     n_init = 10,\n",
    "                     max_iter = 300, \n",
    "                     tol = 0.0001,  \n",
    "                     random_state = 111, \n",
    "                     algorithm = 'elkan'))\n",
    "    modelo.fit(X1)\n",
    "    inertia.append(modelo.inertia_)\n",
    "\n",
    "# Plot\n",
    "plt.figure(1 , figsize = (15 ,6))\n",
    "plt.plot(np.arange(2 , 11) , inertia , 'o')\n",
    "plt.plot(np.arange(2 , 11) , inertia , '-' , alpha = 0.5)\n",
    "plt.xlabel('Número de Clusters') , plt.ylabel('Inertia')\n",
    "plt.show()"
   ]
  },
  {
   "cell_type": "markdown",
   "metadata": {},
   "source": [
    "Vamos criar o modelo com 4 clusters."
   ]
  },
  {
   "cell_type": "code",
   "execution_count": 71,
   "metadata": {},
   "outputs": [],
   "source": [
    "# Criação do modelo com 4 clusters\n",
    "modelo_seg3 = (KMeans(n_clusters = 4,\n",
    "                      init = 'k-means++', \n",
    "                      n_init = 10 ,\n",
    "                      max_iter = 300, \n",
    "                      tol = 0.0001,  \n",
    "                      random_state = 111  , \n",
    "                      algorithm = 'elkan') )\n",
    "\n",
    "# Treinamento do modelo\n",
    "modelo_seg3.fit(X1)\n",
    "\n",
    "# Labels\n",
    "labels3 = modelo_seg3.labels_\n",
    "\n",
    "# Centróides\n",
    "centroids3 = modelo_seg3.cluster_centers_"
   ]
  },
  {
   "cell_type": "code",
   "execution_count": 72,
   "metadata": {},
   "outputs": [
    {
     "data": {
      "image/png": "[encoded data removed]",
      "text/plain": [
       "<Figure size 1080x504 with 1 Axes>"
      ]
     },
     "metadata": {
      "needs_background": "light"
     },
     "output_type": "display_data"
    }
   ],
   "source": [
    "# Plot\n",
    "\n",
    "# Parâmetros do Meshgrid\n",
    "h = 0.02\n",
    "x_min, x_max = X1[:, 0].min() - 1, X1[:, 0].max() + 1\n",
    "y_min, y_max = X1[:, 1].min() - 1, X1[:, 1].max() + 1\n",
    "xx, yy = np.meshgrid(np.arange(x_min, x_max, h), np.arange(y_min, y_max, h))\n",
    "Z = modelo_seg3.predict(np.c_[xx.ravel(), yy.ravel()]) \n",
    "plt.figure(1 , figsize = (15, 7) )\n",
    "plt.clf()\n",
    "Z = Z.reshape(xx.shape)\n",
    "\n",
    "# Plot da imagem\n",
    "plt.imshow(Z, \n",
    "           interpolation = 'nearest', \n",
    "           extent = (xx.min(), xx.max(), yy.min(), yy.max()),\n",
    "           cmap = plt.cm.Pastel1, \n",
    "           aspect = 'auto', \n",
    "           origin = 'lower')\n",
    "\n",
    "# Plot dos pontos de dados\n",
    "plt.scatter( x = 'pizza', y = 'localidade', data = df2, c = labels3, s = 200 )\n",
    "plt.scatter(x = centroids3[: , 0], y =  centroids3[: , 1], s = 300, c = 'red', alpha = 0.5)\n",
    "plt.xlabel('Pizza')\n",
    "plt.ylabel('Localidade')\n",
    "plt.show()"
   ]
  },
  {
   "cell_type": "markdown",
   "metadata": {},
   "source": [
    "**Interpretação**: \n",
    "\n",
    "- O ponto vermelho é o centróide de cada cluster (segmento).\n",
    "\n",
    "\n",
    "- Observe que os clusters da esquerda no gráfico contém os pedidos de todas as Localidades, mas com menor número de Pizzas. Já os clusters da direita no gráfico contém pedidos de todas as Localidades com com maior número de Pizzas."
   ]
  },
  {
   "cell_type": "markdown",
   "metadata": {},
   "source": [
    "**Análise**:\n",
    "\n",
    "Queremos aumentar as vendas, certo? Então teríamos que investigar mais a fundo os pedidos dos clusters à esquerda do gráfico e compreender em mais detalhes as características desses pedidos e que tipo de oferta podemos fazer."
   ]
  },
  {
   "cell_type": "markdown",
   "metadata": {},
   "source": [
    "### Segmentação 4\n",
    "\n",
    "Segmentação 4 - Variáveis Pizza, Salada e Localidade"
   ]
  },
  {
   "cell_type": "code",
   "execution_count": 73,
   "metadata": {},
   "outputs": [
    {
     "data": {
      "image/png": "[encoded data removed]",
      "text/plain": [
       "<Figure size 1080x432 with 1 Axes>"
      ]
     },
     "metadata": {
      "needs_background": "light"
     },
     "output_type": "display_data"
    }
   ],
   "source": [
    "# Usaremos três variáveis\n",
    "X1 = df2[['pizza' , 'salada' , 'localidade']].iloc[: , :].values\n",
    "\n",
    "# Lista de valores de Inertia (Inertia e WCSS são a mesma coisa)\n",
    "inertia = []\n",
    "\n",
    "# Loop para testar os valores de K\n",
    "for n in range(2 , 11):\n",
    "    modelo = (KMeans(n_clusters = n,\n",
    "                     init = 'k-means++', \n",
    "                     n_init = 10,\n",
    "                     max_iter = 300, \n",
    "                     tol = 0.0001,  \n",
    "                     random_state = 111, \n",
    "                     algorithm = 'elkan'))\n",
    "    modelo.fit(X1)\n",
    "    inertia.append(modelo.inertia_)\n",
    "\n",
    "# Plot\n",
    "plt.figure(1 , figsize = (15 ,6))\n",
    "plt.plot(np.arange(2 , 11) , inertia , 'o')\n",
    "plt.plot(np.arange(2 , 11) , inertia , '-' , alpha = 0.5)\n",
    "plt.xlabel('Número de Clusters') , plt.ylabel('Inertia')\n",
    "plt.show()"
   ]
  },
  {
   "cell_type": "markdown",
   "metadata": {},
   "source": [
    "Vamos criar o modelo com 4 clusters."
   ]
  },
  {
   "cell_type": "code",
   "execution_count": 74,
   "metadata": {},
   "outputs": [],
   "source": [
    "# Criação do modelo com 4 clusters\n",
    "modelo_seg4 = (KMeans(n_clusters = 4,\n",
    "                      init = 'k-means++', \n",
    "                      n_init = 10 ,\n",
    "                      max_iter = 300, \n",
    "                      tol = 0.0001,  \n",
    "                      random_state = 111  , \n",
    "                      algorithm = 'elkan') )\n",
    "\n",
    "# Treinamento do modelo\n",
    "modelo_seg4.fit(X1)\n",
    "\n",
    "# Labels\n",
    "labels4 = modelo_seg4.labels_\n",
    "\n",
    "# Centróides\n",
    "centroids4 = modelo_seg4.cluster_centers_"
   ]
  },
  {
   "cell_type": "markdown",
   "metadata": {},
   "source": [
    "### Segmentação 5\n",
    "\n",
    "Segmentação 5 - Variáveis Pizza, Salada e Sobremesa"
   ]
  },
  {
   "cell_type": "code",
   "execution_count": 79,
   "metadata": {},
   "outputs": [
    {
     "data": {
      "image/png": "[encoded data removed]",
      "text/plain": [
       "<Figure size 1080x432 with 1 Axes>"
      ]
     },
     "metadata": {
      "needs_background": "light"
     },
     "output_type": "display_data"
    }
   ],
   "source": [
    "# Usaremos três variáveis\n",
    "X1 = df2[['pizza' , 'salada' , 'sobremesa']].iloc[: , :].values\n",
    "\n",
    "# Lista de valores de Inertia (Inertia e WCSS são a mesma coisa)\n",
    "inertia = []\n",
    "\n",
    "# Loop para testar os valores de K\n",
    "for n in range(2 , 11):\n",
    "    modelo = (KMeans(n_clusters = n,\n",
    "                     init = 'k-means++', \n",
    "                     n_init = 10,\n",
    "                     max_iter = 300, \n",
    "                     tol = 0.0001,  \n",
    "                     random_state = 111, \n",
    "                     algorithm = 'elkan'))\n",
    "    modelo.fit(X1)\n",
    "    inertia.append(modelo.inertia_)\n",
    "\n",
    "# Plot\n",
    "plt.figure(1 , figsize = (15 ,6))\n",
    "plt.plot(np.arange(2 , 11) , inertia , 'o')\n",
    "plt.plot(np.arange(2 , 11) , inertia , '-' , alpha = 0.5)\n",
    "plt.xlabel('Número de Clusters') , plt.ylabel('Inertia')\n",
    "plt.show()"
   ]
  },
  {
   "cell_type": "markdown",
   "metadata": {},
   "source": [
    "Vamos criar o modelo com 2 clusters."
   ]
  },
  {
   "cell_type": "code",
   "execution_count": 80,
   "metadata": {},
   "outputs": [],
   "source": [
    "# Criação do modelo com 2 clusters\n",
    "modelo_seg5 = (KMeans(n_clusters = 2,\n",
    "                      init = 'k-means++', \n",
    "                      n_init = 10 ,\n",
    "                      max_iter = 300, \n",
    "                      tol = 0.0001,  \n",
    "                      random_state = 111  , \n",
    "                      algorithm = 'elkan') )\n",
    "\n",
    "# Treinamento do modelo\n",
    "modelo_seg5.fit(X1)\n",
    "\n",
    "# Labels\n",
    "labels5 = modelo_seg5.labels_\n",
    "\n",
    "# Centróides\n",
    "centroids5 = modelo_seg5.cluster_centers_"
   ]
  },
  {
   "cell_type": "markdown",
   "metadata": {},
   "source": [
    "**Exemplo de Relatório final (Considerando a Segmentação 5)**"
   ]
  },
  {
   "cell_type": "code",
   "execution_count": 82,
   "metadata": {},
   "outputs": [
    {
     "data": {
      "text/plain": [
       "(100000,)"
      ]
     },
     "execution_count": 82,
     "metadata": {},
     "output_type": "execute_result"
    }
   ],
   "source": [
    "# Shape dos labels\n",
    "labels5.shape"
   ]
  },
  {
   "cell_type": "code",
   "execution_count": 83,
   "metadata": {},
   "outputs": [
    {
     "data": {
      "text/plain": [
       "numpy.ndarray"
      ]
     },
     "execution_count": 83,
     "metadata": {},
     "output_type": "execute_result"
    }
   ],
   "source": [
    "# Tipo\n",
    "type(labels5)"
   ]
  },
  {
   "cell_type": "code",
   "execution_count": 84,
   "metadata": {},
   "outputs": [],
   "source": [
    "# Converte o array para dataframe\n",
    "df_labels = pd.DataFrame(labels5)"
   ]
  },
  {
   "cell_type": "code",
   "execution_count": 85,
   "metadata": {},
   "outputs": [
    {
     "data": {
      "text/html": [
       "<div>\n",
       "<style scoped>\n",
       "    .dataframe tbody tr th:only-of-type {\n",
       "        vertical-align: middle;\n",
       "    }\n",
       "\n",
       "    .dataframe tbody tr th {\n",
       "        vertical-align: top;\n",
       "    }\n",
       "\n",
       "    .dataframe thead th {\n",
       "        text-align: right;\n",
       "    }\n",
       "</style>\n",
       "<table border=\"1\" class=\"dataframe\">\n",
       "  <thead>\n",
       "    <tr style=\"text-align: right;\">\n",
       "      <th></th>\n",
       "      <th>0</th>\n",
       "    </tr>\n",
       "  </thead>\n",
       "  <tbody>\n",
       "    <tr>\n",
       "      <th>0</th>\n",
       "      <td>1</td>\n",
       "    </tr>\n",
       "    <tr>\n",
       "      <th>1</th>\n",
       "      <td>1</td>\n",
       "    </tr>\n",
       "    <tr>\n",
       "      <th>2</th>\n",
       "      <td>0</td>\n",
       "    </tr>\n",
       "    <tr>\n",
       "      <th>3</th>\n",
       "      <td>1</td>\n",
       "    </tr>\n",
       "    <tr>\n",
       "      <th>4</th>\n",
       "      <td>0</td>\n",
       "    </tr>\n",
       "  </tbody>\n",
       "</table>\n",
       "</div>"
      ],
      "text/plain": [
       "   0\n",
       "0  1\n",
       "1  1\n",
       "2  0\n",
       "3  1\n",
       "4  0"
      ]
     },
     "execution_count": 85,
     "metadata": {},
     "output_type": "execute_result"
    }
   ],
   "source": [
    "# Visualiza\n",
    "df_labels.head(5)"
   ]
  },
  {
   "cell_type": "code",
   "execution_count": 86,
   "metadata": {},
   "outputs": [
    {
     "data": {
      "text/plain": [
       "pandas.core.frame.DataFrame"
      ]
     },
     "execution_count": 86,
     "metadata": {},
     "output_type": "execute_result"
    }
   ],
   "source": [
    "# Tipo\n",
    "type(df_labels)"
   ]
  },
  {
   "cell_type": "code",
   "execution_count": 87,
   "metadata": {},
   "outputs": [],
   "source": [
    "# Vamos fazer o merge de df2 e os labels (clusters) encontrados pelo modelo\n",
    "# Lembre-se que usamos somente 3 variáveis para criar a segmentação\n",
    "df_final = df2.merge(df_labels, left_index = True, right_index = True)"
   ]
  },
  {
   "cell_type": "code",
   "execution_count": 88,
   "metadata": {},
   "outputs": [
    {
     "data": {
      "text/html": [
       "<div>\n",
       "<style scoped>\n",
       "    .dataframe tbody tr th:only-of-type {\n",
       "        vertical-align: middle;\n",
       "    }\n",
       "\n",
       "    .dataframe tbody tr th {\n",
       "        vertical-align: top;\n",
       "    }\n",
       "\n",
       "    .dataframe thead th {\n",
       "        text-align: right;\n",
       "    }\n",
       "</style>\n",
       "<table border=\"1\" class=\"dataframe\">\n",
       "  <thead>\n",
       "    <tr style=\"text-align: right;\">\n",
       "      <th></th>\n",
       "      <th>index</th>\n",
       "      <th>bebida</th>\n",
       "      <th>pizza</th>\n",
       "      <th>sobremesa</th>\n",
       "      <th>salada</th>\n",
       "      <th>localidade</th>\n",
       "      <th>0</th>\n",
       "    </tr>\n",
       "  </thead>\n",
       "  <tbody>\n",
       "    <tr>\n",
       "      <th>0</th>\n",
       "      <td>0</td>\n",
       "      <td>0</td>\n",
       "      <td>1</td>\n",
       "      <td>1</td>\n",
       "      <td>0</td>\n",
       "      <td>9</td>\n",
       "      <td>1</td>\n",
       "    </tr>\n",
       "    <tr>\n",
       "      <th>1</th>\n",
       "      <td>1</td>\n",
       "      <td>0</td>\n",
       "      <td>2</td>\n",
       "      <td>2</td>\n",
       "      <td>0</td>\n",
       "      <td>6</td>\n",
       "      <td>1</td>\n",
       "    </tr>\n",
       "    <tr>\n",
       "      <th>2</th>\n",
       "      <td>2</td>\n",
       "      <td>4</td>\n",
       "      <td>4</td>\n",
       "      <td>5</td>\n",
       "      <td>1</td>\n",
       "      <td>9</td>\n",
       "      <td>0</td>\n",
       "    </tr>\n",
       "    <tr>\n",
       "      <th>3</th>\n",
       "      <td>3</td>\n",
       "      <td>0</td>\n",
       "      <td>1</td>\n",
       "      <td>1</td>\n",
       "      <td>0</td>\n",
       "      <td>6</td>\n",
       "      <td>1</td>\n",
       "    </tr>\n",
       "    <tr>\n",
       "      <th>4</th>\n",
       "      <td>4</td>\n",
       "      <td>3</td>\n",
       "      <td>3</td>\n",
       "      <td>3</td>\n",
       "      <td>0</td>\n",
       "      <td>2</td>\n",
       "      <td>0</td>\n",
       "    </tr>\n",
       "    <tr>\n",
       "      <th>...</th>\n",
       "      <td>...</td>\n",
       "      <td>...</td>\n",
       "      <td>...</td>\n",
       "      <td>...</td>\n",
       "      <td>...</td>\n",
       "      <td>...</td>\n",
       "      <td>...</td>\n",
       "    </tr>\n",
       "    <tr>\n",
       "      <th>99995</th>\n",
       "      <td>99995</td>\n",
       "      <td>4</td>\n",
       "      <td>4</td>\n",
       "      <td>4</td>\n",
       "      <td>0</td>\n",
       "      <td>4</td>\n",
       "      <td>0</td>\n",
       "    </tr>\n",
       "    <tr>\n",
       "      <th>99996</th>\n",
       "      <td>99996</td>\n",
       "      <td>0</td>\n",
       "      <td>1</td>\n",
       "      <td>1</td>\n",
       "      <td>0</td>\n",
       "      <td>2</td>\n",
       "      <td>1</td>\n",
       "    </tr>\n",
       "    <tr>\n",
       "      <th>99997</th>\n",
       "      <td>99997</td>\n",
       "      <td>1</td>\n",
       "      <td>1</td>\n",
       "      <td>1</td>\n",
       "      <td>0</td>\n",
       "      <td>2</td>\n",
       "      <td>1</td>\n",
       "    </tr>\n",
       "    <tr>\n",
       "      <th>99998</th>\n",
       "      <td>99998</td>\n",
       "      <td>0</td>\n",
       "      <td>2</td>\n",
       "      <td>2</td>\n",
       "      <td>0</td>\n",
       "      <td>3</td>\n",
       "      <td>1</td>\n",
       "    </tr>\n",
       "    <tr>\n",
       "      <th>99999</th>\n",
       "      <td>99999</td>\n",
       "      <td>0</td>\n",
       "      <td>1</td>\n",
       "      <td>1</td>\n",
       "      <td>0</td>\n",
       "      <td>2</td>\n",
       "      <td>1</td>\n",
       "    </tr>\n",
       "  </tbody>\n",
       "</table>\n",
       "<p>100000 rows × 7 columns</p>\n",
       "</div>"
      ],
      "text/plain": [
       "       index  bebida  pizza  sobremesa  salada  localidade  0\n",
       "0          0       0      1          1       0           9  1\n",
       "1          1       0      2          2       0           6  1\n",
       "2          2       4      4          5       1           9  0\n",
       "3          3       0      1          1       0           6  1\n",
       "4          4       3      3          3       0           2  0\n",
       "...      ...     ...    ...        ...     ...         ... ..\n",
       "99995  99995       4      4          4       0           4  0\n",
       "99996  99996       0      1          1       0           2  1\n",
       "99997  99997       1      1          1       0           2  1\n",
       "99998  99998       0      2          2       0           3  1\n",
       "99999  99999       0      1          1       0           2  1\n",
       "\n",
       "[100000 rows x 7 columns]"
      ]
     },
     "execution_count": 88,
     "metadata": {},
     "output_type": "execute_result"
    }
   ],
   "source": [
    "# Visualiza\n",
    "df_final"
   ]
  },
  {
   "cell_type": "code",
   "execution_count": 89,
   "metadata": {},
   "outputs": [],
   "source": [
    "# Ajusta o nome da coluna\n",
    "df_final.rename(columns = {0:\"cluster\"}, inplace = True)"
   ]
  },
  {
   "cell_type": "code",
   "execution_count": 90,
   "metadata": {},
   "outputs": [
    {
     "data": {
      "text/html": [
       "<div>\n",
       "<style scoped>\n",
       "    .dataframe tbody tr th:only-of-type {\n",
       "        vertical-align: middle;\n",
       "    }\n",
       "\n",
       "    .dataframe tbody tr th {\n",
       "        vertical-align: top;\n",
       "    }\n",
       "\n",
       "    .dataframe thead th {\n",
       "        text-align: right;\n",
       "    }\n",
       "</style>\n",
       "<table border=\"1\" class=\"dataframe\">\n",
       "  <thead>\n",
       "    <tr style=\"text-align: right;\">\n",
       "      <th></th>\n",
       "      <th>index</th>\n",
       "      <th>bebida</th>\n",
       "      <th>pizza</th>\n",
       "      <th>sobremesa</th>\n",
       "      <th>salada</th>\n",
       "      <th>localidade</th>\n",
       "      <th>cluster</th>\n",
       "    </tr>\n",
       "  </thead>\n",
       "  <tbody>\n",
       "    <tr>\n",
       "      <th>0</th>\n",
       "      <td>0</td>\n",
       "      <td>0</td>\n",
       "      <td>1</td>\n",
       "      <td>1</td>\n",
       "      <td>0</td>\n",
       "      <td>9</td>\n",
       "      <td>1</td>\n",
       "    </tr>\n",
       "    <tr>\n",
       "      <th>1</th>\n",
       "      <td>1</td>\n",
       "      <td>0</td>\n",
       "      <td>2</td>\n",
       "      <td>2</td>\n",
       "      <td>0</td>\n",
       "      <td>6</td>\n",
       "      <td>1</td>\n",
       "    </tr>\n",
       "    <tr>\n",
       "      <th>2</th>\n",
       "      <td>2</td>\n",
       "      <td>4</td>\n",
       "      <td>4</td>\n",
       "      <td>5</td>\n",
       "      <td>1</td>\n",
       "      <td>9</td>\n",
       "      <td>0</td>\n",
       "    </tr>\n",
       "    <tr>\n",
       "      <th>3</th>\n",
       "      <td>3</td>\n",
       "      <td>0</td>\n",
       "      <td>1</td>\n",
       "      <td>1</td>\n",
       "      <td>0</td>\n",
       "      <td>6</td>\n",
       "      <td>1</td>\n",
       "    </tr>\n",
       "    <tr>\n",
       "      <th>4</th>\n",
       "      <td>4</td>\n",
       "      <td>3</td>\n",
       "      <td>3</td>\n",
       "      <td>3</td>\n",
       "      <td>0</td>\n",
       "      <td>2</td>\n",
       "      <td>0</td>\n",
       "    </tr>\n",
       "    <tr>\n",
       "      <th>...</th>\n",
       "      <td>...</td>\n",
       "      <td>...</td>\n",
       "      <td>...</td>\n",
       "      <td>...</td>\n",
       "      <td>...</td>\n",
       "      <td>...</td>\n",
       "      <td>...</td>\n",
       "    </tr>\n",
       "    <tr>\n",
       "      <th>99995</th>\n",
       "      <td>99995</td>\n",
       "      <td>4</td>\n",
       "      <td>4</td>\n",
       "      <td>4</td>\n",
       "      <td>0</td>\n",
       "      <td>4</td>\n",
       "      <td>0</td>\n",
       "    </tr>\n",
       "    <tr>\n",
       "      <th>99996</th>\n",
       "      <td>99996</td>\n",
       "      <td>0</td>\n",
       "      <td>1</td>\n",
       "      <td>1</td>\n",
       "      <td>0</td>\n",
       "      <td>2</td>\n",
       "      <td>1</td>\n",
       "    </tr>\n",
       "    <tr>\n",
       "      <th>99997</th>\n",
       "      <td>99997</td>\n",
       "      <td>1</td>\n",
       "      <td>1</td>\n",
       "      <td>1</td>\n",
       "      <td>0</td>\n",
       "      <td>2</td>\n",
       "      <td>1</td>\n",
       "    </tr>\n",
       "    <tr>\n",
       "      <th>99998</th>\n",
       "      <td>99998</td>\n",
       "      <td>0</td>\n",
       "      <td>2</td>\n",
       "      <td>2</td>\n",
       "      <td>0</td>\n",
       "      <td>3</td>\n",
       "      <td>1</td>\n",
       "    </tr>\n",
       "    <tr>\n",
       "      <th>99999</th>\n",
       "      <td>99999</td>\n",
       "      <td>0</td>\n",
       "      <td>1</td>\n",
       "      <td>1</td>\n",
       "      <td>0</td>\n",
       "      <td>2</td>\n",
       "      <td>1</td>\n",
       "    </tr>\n",
       "  </tbody>\n",
       "</table>\n",
       "<p>100000 rows × 7 columns</p>\n",
       "</div>"
      ],
      "text/plain": [
       "       index  bebida  pizza  sobremesa  salada  localidade  cluster\n",
       "0          0       0      1          1       0           9        1\n",
       "1          1       0      2          2       0           6        1\n",
       "2          2       4      4          5       1           9        0\n",
       "3          3       0      1          1       0           6        1\n",
       "4          4       3      3          3       0           2        0\n",
       "...      ...     ...    ...        ...     ...         ...      ...\n",
       "99995  99995       4      4          4       0           4        0\n",
       "99996  99996       0      1          1       0           2        1\n",
       "99997  99997       1      1          1       0           2        1\n",
       "99998  99998       0      2          2       0           3        1\n",
       "99999  99999       0      1          1       0           2        1\n",
       "\n",
       "[100000 rows x 7 columns]"
      ]
     },
     "execution_count": 90,
     "metadata": {},
     "output_type": "execute_result"
    }
   ],
   "source": [
    "# Visualiza\n",
    "df_final"
   ]
  },
  {
   "cell_type": "markdown",
   "metadata": {},
   "source": [
    "---------"
   ]
  },
  {
   "cell_type": "markdown",
   "metadata": {},
   "source": [
    "# Fim "
   ]
  }
 ],
 "metadata": {
  "kernelspec": {
   "display_name": "Python 3",
   "language": "python",
   "name": "python3"
  },
  "language_info": {
   "codemirror_mode": {
    "name": "ipython",
    "version": 3
   },
   "file_extension": ".py",
   "mimetype": "text/x-python",
   "name": "python",
   "nbconvert_exporter": "python",
   "pygments_lexer": "ipython3",
   "version": "3.7.6"
  }
 },
 "nbformat": 4,
 "nbformat_minor": 2
}
